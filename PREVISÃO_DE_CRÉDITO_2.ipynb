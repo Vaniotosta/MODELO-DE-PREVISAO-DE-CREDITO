{
  "cells": [
    {
      "cell_type": "markdown",
      "metadata": {
        "id": "view-in-github",
        "colab_type": "text"
      },
      "source": [
        "<a href=\"https://colab.research.google.com/github/Vaniotosta/Projeto-Data-Science/blob/main/PREVEN%C3%87%C3%83O_DE_CR%C3%89DITO_2.ipynb\" target=\"_parent\"><img src=\"https://colab.research.google.com/assets/colab-badge.svg\" alt=\"Open In Colab\"/></a>"
      ]
    },
    {
      "cell_type": "markdown",
      "source": [
        "#**PROJETO DE ANÁLISE DE PREVISÃO DE CRÉDITO**\n",
        "\n",
        "\n",
        "\n",
        "\n",
        "\n",
        "\n",
        "\n",
        "\n",
        "\n",
        "\n"
      ],
      "metadata": {
        "id": "kZvKItwRxX0p"
      }
    },
    {
      "cell_type": "markdown",
      "source": [
        "# PROBLEMA DE NEGÓCIO"
      ],
      "metadata": {
        "id": "RsVf-KWAyvj8"
      }
    },
    {
      "cell_type": "markdown",
      "source": [
        "- Um crédito é uma quantia de dinheiro que se deve a uma entidade (por exemplo, um banco) ou a uma pessoa. No caso do crédito que se obtém através de um banco (chamado de “crédito bancário”), ele pode tanto ser oferecido pelo banco a uma pessoa física (pessoa comum) como para uma pessoa jurídica (uma empresa). Os créditos estão relacionados às compras e qualquer operação financeira que envolva confiança e empréstimos com objetivo de movimentar a economia.\n",
        "\n",
        "- No entanto, todo crédito envolve riscos que são a probabilidade de alguém adquirir uma dívida e não honrar com seu pagamento, e é algo que deve ser avaliado em todas as transações e operações financeiras envolvendo um lado que “empresta” dinheiro (independentemente do formato) e outro que recebe esse empréstimo.\n",
        "-Nesse sentido este projeto tem como objetivo: **PREVER OS CRÉDITOS NÃO APROVADOS PARA DETERMINADOS CLIENTES**.  \n",
        "-Tal objetivo nasce da necessidades de gerar insights sobre o perfil da carteira de cliente para mapear possíveis oportunidades de crescimento, além de evitar o risco de possíveis inadimplência.\n",
        "- É importante ressaltar que o projeto analisa os créditos aprovados e não aprovados, e que não leva em consideração o tipo de empresa que fornece o crédito, haja visto, que o mesmo pode ser cedido por qualquer instituição que trabalhe com essa modalidade de negócio."
      ],
      "metadata": {
        "id": "SWfUFXf5y9va"
      }
    },
    {
      "cell_type": "markdown",
      "source": [
        "#ETAPAS  DO PROJETO\n",
        "\n",
        "1. BUSCA DOS DADOS;\n",
        "2. CONHECER OS DADOS;\n",
        "3. EXPLORAR E TRATAR OS DADOS;\n",
        "4. FAZER ANÁLISE EXPLORATÓRIA E GERAR INSIGHTS;\n",
        "5. FAZER EDA PARA MODELAGEM;\n",
        "6. PRÉ-PROCESSAMENTO PARA MODELAGEM;\n",
        "7.FAZER A MODELAGEM NOS DADOS;\n",
        "8. CONSIDERAÇÕES FINAIS."
      ],
      "metadata": {
        "id": "7z-w0tf_yrQg"
      }
    },
    {
      "cell_type": "markdown",
      "source": [
        "#EDA - ANÁLISE   EXPLORATÓRIA DOS DADOS"
      ],
      "metadata": {
        "id": "oS0sUKQZymca"
      }
    },
    {
      "cell_type": "code",
      "execution_count": 79,
      "metadata": {
        "id": "vJIwq_mKvOhz"
      },
      "outputs": [],
      "source": [
        "#importação de pacotes\n",
        "import pandas as pd  \n",
        "import seaborn as sns\n",
        "import matplotlib.pyplot as plt\n",
        "from sklearn.ensemble import RandomForestClassifier\n",
        "from xgboost import XGBClassifier\n",
        "from sklearn.preprocessing import LabelEncoder\n",
        "from sklearn.model_selection import train_test_split\n",
        "from sklearn.metrics import confusion_matrix\n",
        "from sklearn.metrics import classification_report\n",
        "from sklearn.metrics import accuracy_score\n",
        "from sklearn.neighbors import (NeighborhoodComponentsAnalysis,\n",
        " KNeighborsClassifier)\n",
        "import numpy as np\n",
        "from sklearn.tree import DecisionTreeClassifier\n",
        "from sklearn.linear_model import LogisticRegression\n",
        "from sklearn.model_selection import KFold\n",
        "from sklearn.model_selection import cross_validate\n",
        "\n",
        "\n"
      ]
    },
    {
      "cell_type": "code",
      "source": [
        "# ignorar mensagens\n",
        "import warnings \n",
        "warnings.filterwarnings('ignore')"
      ],
      "metadata": {
        "id": "1d_sv0dRWPK7"
      },
      "execution_count": 139,
      "outputs": []
    },
    {
      "cell_type": "code",
      "execution_count": 81,
      "metadata": {
        "colab": {
          "base_uri": "https://localhost:8080/",
          "height": 357
        },
        "id": "7J63W8QkvvOt",
        "outputId": "5a320e4c-d356-49a2-b5a8-0a2ff92d408d"
      },
      "outputs": [
        {
          "output_type": "execute_result",
          "data": {
            "text/plain": [
              "   idade        empregador   renda  education  education_num  \\\n",
              "0     39         State-gov   77516  Bachelors             13   \n",
              "1     50  Self-emp-not-inc   83311  Bachelors             13   \n",
              "2     38           Private  215646    HS-grad              9   \n",
              "3     53           Private  234721       11th              7   \n",
              "4     28           Private  338409  Bachelors             13   \n",
              "\n",
              "         estado_civil           ocupacao relacionamento   race     sex  \\\n",
              "0       Never-married       Adm-clerical  Not-in-family  White    Male   \n",
              "1  Married-civ-spouse    Exec-managerial        Husband  White    Male   \n",
              "2            Divorced  Handlers-cleaners  Not-in-family  White    Male   \n",
              "3  Married-civ-spouse  Handlers-cleaners        Husband  Black    Male   \n",
              "4  Married-civ-spouse     Prof-specialty           Wife  Black  Female   \n",
              "\n",
              "   investimentos  endividamento  horas_por_semana  nacionalidade  \\\n",
              "0           2174              0                40  United-States   \n",
              "1              0              0                13  United-States   \n",
              "2              0              0                40  United-States   \n",
              "3              0              0                40  United-States   \n",
              "4              0              0                40           Cuba   \n",
              "\n",
              "  aprovacao_credito  \n",
              "0      não aprovado  \n",
              "1      não aprovado  \n",
              "2      não aprovado  \n",
              "3      não aprovado  \n",
              "4      não aprovado  "
            ],
            "text/html": [
              "\n",
              "  <div id=\"df-8d9aaf21-302d-4c07-b58e-8eb0f37eb470\">\n",
              "    <div class=\"colab-df-container\">\n",
              "      <div>\n",
              "<style scoped>\n",
              "    .dataframe tbody tr th:only-of-type {\n",
              "        vertical-align: middle;\n",
              "    }\n",
              "\n",
              "    .dataframe tbody tr th {\n",
              "        vertical-align: top;\n",
              "    }\n",
              "\n",
              "    .dataframe thead th {\n",
              "        text-align: right;\n",
              "    }\n",
              "</style>\n",
              "<table border=\"1\" class=\"dataframe\">\n",
              "  <thead>\n",
              "    <tr style=\"text-align: right;\">\n",
              "      <th></th>\n",
              "      <th>idade</th>\n",
              "      <th>empregador</th>\n",
              "      <th>renda</th>\n",
              "      <th>education</th>\n",
              "      <th>education_num</th>\n",
              "      <th>estado_civil</th>\n",
              "      <th>ocupacao</th>\n",
              "      <th>relacionamento</th>\n",
              "      <th>race</th>\n",
              "      <th>sex</th>\n",
              "      <th>investimentos</th>\n",
              "      <th>endividamento</th>\n",
              "      <th>horas_por_semana</th>\n",
              "      <th>nacionalidade</th>\n",
              "      <th>aprovacao_credito</th>\n",
              "    </tr>\n",
              "  </thead>\n",
              "  <tbody>\n",
              "    <tr>\n",
              "      <th>0</th>\n",
              "      <td>39</td>\n",
              "      <td>State-gov</td>\n",
              "      <td>77516</td>\n",
              "      <td>Bachelors</td>\n",
              "      <td>13</td>\n",
              "      <td>Never-married</td>\n",
              "      <td>Adm-clerical</td>\n",
              "      <td>Not-in-family</td>\n",
              "      <td>White</td>\n",
              "      <td>Male</td>\n",
              "      <td>2174</td>\n",
              "      <td>0</td>\n",
              "      <td>40</td>\n",
              "      <td>United-States</td>\n",
              "      <td>não aprovado</td>\n",
              "    </tr>\n",
              "    <tr>\n",
              "      <th>1</th>\n",
              "      <td>50</td>\n",
              "      <td>Self-emp-not-inc</td>\n",
              "      <td>83311</td>\n",
              "      <td>Bachelors</td>\n",
              "      <td>13</td>\n",
              "      <td>Married-civ-spouse</td>\n",
              "      <td>Exec-managerial</td>\n",
              "      <td>Husband</td>\n",
              "      <td>White</td>\n",
              "      <td>Male</td>\n",
              "      <td>0</td>\n",
              "      <td>0</td>\n",
              "      <td>13</td>\n",
              "      <td>United-States</td>\n",
              "      <td>não aprovado</td>\n",
              "    </tr>\n",
              "    <tr>\n",
              "      <th>2</th>\n",
              "      <td>38</td>\n",
              "      <td>Private</td>\n",
              "      <td>215646</td>\n",
              "      <td>HS-grad</td>\n",
              "      <td>9</td>\n",
              "      <td>Divorced</td>\n",
              "      <td>Handlers-cleaners</td>\n",
              "      <td>Not-in-family</td>\n",
              "      <td>White</td>\n",
              "      <td>Male</td>\n",
              "      <td>0</td>\n",
              "      <td>0</td>\n",
              "      <td>40</td>\n",
              "      <td>United-States</td>\n",
              "      <td>não aprovado</td>\n",
              "    </tr>\n",
              "    <tr>\n",
              "      <th>3</th>\n",
              "      <td>53</td>\n",
              "      <td>Private</td>\n",
              "      <td>234721</td>\n",
              "      <td>11th</td>\n",
              "      <td>7</td>\n",
              "      <td>Married-civ-spouse</td>\n",
              "      <td>Handlers-cleaners</td>\n",
              "      <td>Husband</td>\n",
              "      <td>Black</td>\n",
              "      <td>Male</td>\n",
              "      <td>0</td>\n",
              "      <td>0</td>\n",
              "      <td>40</td>\n",
              "      <td>United-States</td>\n",
              "      <td>não aprovado</td>\n",
              "    </tr>\n",
              "    <tr>\n",
              "      <th>4</th>\n",
              "      <td>28</td>\n",
              "      <td>Private</td>\n",
              "      <td>338409</td>\n",
              "      <td>Bachelors</td>\n",
              "      <td>13</td>\n",
              "      <td>Married-civ-spouse</td>\n",
              "      <td>Prof-specialty</td>\n",
              "      <td>Wife</td>\n",
              "      <td>Black</td>\n",
              "      <td>Female</td>\n",
              "      <td>0</td>\n",
              "      <td>0</td>\n",
              "      <td>40</td>\n",
              "      <td>Cuba</td>\n",
              "      <td>não aprovado</td>\n",
              "    </tr>\n",
              "  </tbody>\n",
              "</table>\n",
              "</div>\n",
              "      <button class=\"colab-df-convert\" onclick=\"convertToInteractive('df-8d9aaf21-302d-4c07-b58e-8eb0f37eb470')\"\n",
              "              title=\"Convert this dataframe to an interactive table.\"\n",
              "              style=\"display:none;\">\n",
              "        \n",
              "  <svg xmlns=\"http://www.w3.org/2000/svg\" height=\"24px\"viewBox=\"0 0 24 24\"\n",
              "       width=\"24px\">\n",
              "    <path d=\"M0 0h24v24H0V0z\" fill=\"none\"/>\n",
              "    <path d=\"M18.56 5.44l.94 2.06.94-2.06 2.06-.94-2.06-.94-.94-2.06-.94 2.06-2.06.94zm-11 1L8.5 8.5l.94-2.06 2.06-.94-2.06-.94L8.5 2.5l-.94 2.06-2.06.94zm10 10l.94 2.06.94-2.06 2.06-.94-2.06-.94-.94-2.06-.94 2.06-2.06.94z\"/><path d=\"M17.41 7.96l-1.37-1.37c-.4-.4-.92-.59-1.43-.59-.52 0-1.04.2-1.43.59L10.3 9.45l-7.72 7.72c-.78.78-.78 2.05 0 2.83L4 21.41c.39.39.9.59 1.41.59.51 0 1.02-.2 1.41-.59l7.78-7.78 2.81-2.81c.8-.78.8-2.07 0-2.86zM5.41 20L4 18.59l7.72-7.72 1.47 1.35L5.41 20z\"/>\n",
              "  </svg>\n",
              "      </button>\n",
              "      \n",
              "  <style>\n",
              "    .colab-df-container {\n",
              "      display:flex;\n",
              "      flex-wrap:wrap;\n",
              "      gap: 12px;\n",
              "    }\n",
              "\n",
              "    .colab-df-convert {\n",
              "      background-color: #E8F0FE;\n",
              "      border: none;\n",
              "      border-radius: 50%;\n",
              "      cursor: pointer;\n",
              "      display: none;\n",
              "      fill: #1967D2;\n",
              "      height: 32px;\n",
              "      padding: 0 0 0 0;\n",
              "      width: 32px;\n",
              "    }\n",
              "\n",
              "    .colab-df-convert:hover {\n",
              "      background-color: #E2EBFA;\n",
              "      box-shadow: 0px 1px 2px rgba(60, 64, 67, 0.3), 0px 1px 3px 1px rgba(60, 64, 67, 0.15);\n",
              "      fill: #174EA6;\n",
              "    }\n",
              "\n",
              "    [theme=dark] .colab-df-convert {\n",
              "      background-color: #3B4455;\n",
              "      fill: #D2E3FC;\n",
              "    }\n",
              "\n",
              "    [theme=dark] .colab-df-convert:hover {\n",
              "      background-color: #434B5C;\n",
              "      box-shadow: 0px 1px 3px 1px rgba(0, 0, 0, 0.15);\n",
              "      filter: drop-shadow(0px 1px 2px rgba(0, 0, 0, 0.3));\n",
              "      fill: #FFFFFF;\n",
              "    }\n",
              "  </style>\n",
              "\n",
              "      <script>\n",
              "        const buttonEl =\n",
              "          document.querySelector('#df-8d9aaf21-302d-4c07-b58e-8eb0f37eb470 button.colab-df-convert');\n",
              "        buttonEl.style.display =\n",
              "          google.colab.kernel.accessAllowed ? 'block' : 'none';\n",
              "\n",
              "        async function convertToInteractive(key) {\n",
              "          const element = document.querySelector('#df-8d9aaf21-302d-4c07-b58e-8eb0f37eb470');\n",
              "          const dataTable =\n",
              "            await google.colab.kernel.invokeFunction('convertToInteractive',\n",
              "                                                     [key], {});\n",
              "          if (!dataTable) return;\n",
              "\n",
              "          const docLinkHtml = 'Like what you see? Visit the ' +\n",
              "            '<a target=\"_blank\" href=https://colab.research.google.com/notebooks/data_table.ipynb>data table notebook</a>'\n",
              "            + ' to learn more about interactive tables.';\n",
              "          element.innerHTML = '';\n",
              "          dataTable['output_type'] = 'display_data';\n",
              "          await google.colab.output.renderOutput(dataTable, element);\n",
              "          const docLink = document.createElement('div');\n",
              "          docLink.innerHTML = docLinkHtml;\n",
              "          element.appendChild(docLink);\n",
              "        }\n",
              "      </script>\n",
              "    </div>\n",
              "  </div>\n",
              "  "
            ]
          },
          "metadata": {},
          "execution_count": 81
        }
      ],
      "source": [
        "# Lendo a base de dados\n",
        "dados= pd.read_csv('/content/drive/MyDrive/EDUARDO ROCHA/DATASET/imobiliario.csv')\n",
        "dados.head()\n"
      ]
    },
    {
      "cell_type": "code",
      "execution_count": 82,
      "metadata": {
        "colab": {
          "base_uri": "https://localhost:8080/",
          "height": 423
        },
        "id": "CEI9OkipedQf",
        "outputId": "28941f64-fa2b-4f14-d6b4-bee65b85b622"
      },
      "outputs": [
        {
          "output_type": "execute_result",
          "data": {
            "text/plain": [
              "       idade        empregador   renda   education        estado_civil  \\\n",
              "0         39         State-gov   77516   Bachelors       Never-married   \n",
              "1         50  Self-emp-not-inc   83311   Bachelors  Married-civ-spouse   \n",
              "2         38           Private  215646     HS-grad            Divorced   \n",
              "3         53           Private  234721        11th  Married-civ-spouse   \n",
              "4         28           Private  338409   Bachelors  Married-civ-spouse   \n",
              "...      ...               ...     ...         ...                 ...   \n",
              "32556     27           Private  257302  Assoc-acdm  Married-civ-spouse   \n",
              "32557     40           Private  154374     HS-grad  Married-civ-spouse   \n",
              "32558     58           Private  151910     HS-grad             Widowed   \n",
              "32559     22           Private  201490     HS-grad       Never-married   \n",
              "32560     52      Self-emp-inc  287927     HS-grad  Married-civ-spouse   \n",
              "\n",
              "                ocupacao relacionamento   race     sex  investimentos  \\\n",
              "0           Adm-clerical  Not-in-family  White    Male           2174   \n",
              "1        Exec-managerial        Husband  White    Male              0   \n",
              "2      Handlers-cleaners  Not-in-family  White    Male              0   \n",
              "3      Handlers-cleaners        Husband  Black    Male              0   \n",
              "4         Prof-specialty           Wife  Black  Female              0   \n",
              "...                  ...            ...    ...     ...            ...   \n",
              "32556       Tech-support           Wife  White  Female              0   \n",
              "32557  Machine-op-inspct        Husband  White    Male              0   \n",
              "32558       Adm-clerical      Unmarried  White  Female              0   \n",
              "32559       Adm-clerical      Own-child  White    Male              0   \n",
              "32560    Exec-managerial           Wife  White  Female          15024   \n",
              "\n",
              "       endividamento  nacionalidade aprovacao_credito  \n",
              "0                  0  United-States      não aprovado  \n",
              "1                  0  United-States      não aprovado  \n",
              "2                  0  United-States      não aprovado  \n",
              "3                  0  United-States      não aprovado  \n",
              "4                  0           Cuba      não aprovado  \n",
              "...              ...            ...               ...  \n",
              "32556              0  United-States      não aprovado  \n",
              "32557              0  United-States          APROVADO  \n",
              "32558              0  United-States      não aprovado  \n",
              "32559              0  United-States      não aprovado  \n",
              "32560              0  United-States          APROVADO  \n",
              "\n",
              "[32561 rows x 13 columns]"
            ],
            "text/html": [
              "\n",
              "  <div id=\"df-054290fa-7f05-40aa-953d-94f1e23a9adb\">\n",
              "    <div class=\"colab-df-container\">\n",
              "      <div>\n",
              "<style scoped>\n",
              "    .dataframe tbody tr th:only-of-type {\n",
              "        vertical-align: middle;\n",
              "    }\n",
              "\n",
              "    .dataframe tbody tr th {\n",
              "        vertical-align: top;\n",
              "    }\n",
              "\n",
              "    .dataframe thead th {\n",
              "        text-align: right;\n",
              "    }\n",
              "</style>\n",
              "<table border=\"1\" class=\"dataframe\">\n",
              "  <thead>\n",
              "    <tr style=\"text-align: right;\">\n",
              "      <th></th>\n",
              "      <th>idade</th>\n",
              "      <th>empregador</th>\n",
              "      <th>renda</th>\n",
              "      <th>education</th>\n",
              "      <th>estado_civil</th>\n",
              "      <th>ocupacao</th>\n",
              "      <th>relacionamento</th>\n",
              "      <th>race</th>\n",
              "      <th>sex</th>\n",
              "      <th>investimentos</th>\n",
              "      <th>endividamento</th>\n",
              "      <th>nacionalidade</th>\n",
              "      <th>aprovacao_credito</th>\n",
              "    </tr>\n",
              "  </thead>\n",
              "  <tbody>\n",
              "    <tr>\n",
              "      <th>0</th>\n",
              "      <td>39</td>\n",
              "      <td>State-gov</td>\n",
              "      <td>77516</td>\n",
              "      <td>Bachelors</td>\n",
              "      <td>Never-married</td>\n",
              "      <td>Adm-clerical</td>\n",
              "      <td>Not-in-family</td>\n",
              "      <td>White</td>\n",
              "      <td>Male</td>\n",
              "      <td>2174</td>\n",
              "      <td>0</td>\n",
              "      <td>United-States</td>\n",
              "      <td>não aprovado</td>\n",
              "    </tr>\n",
              "    <tr>\n",
              "      <th>1</th>\n",
              "      <td>50</td>\n",
              "      <td>Self-emp-not-inc</td>\n",
              "      <td>83311</td>\n",
              "      <td>Bachelors</td>\n",
              "      <td>Married-civ-spouse</td>\n",
              "      <td>Exec-managerial</td>\n",
              "      <td>Husband</td>\n",
              "      <td>White</td>\n",
              "      <td>Male</td>\n",
              "      <td>0</td>\n",
              "      <td>0</td>\n",
              "      <td>United-States</td>\n",
              "      <td>não aprovado</td>\n",
              "    </tr>\n",
              "    <tr>\n",
              "      <th>2</th>\n",
              "      <td>38</td>\n",
              "      <td>Private</td>\n",
              "      <td>215646</td>\n",
              "      <td>HS-grad</td>\n",
              "      <td>Divorced</td>\n",
              "      <td>Handlers-cleaners</td>\n",
              "      <td>Not-in-family</td>\n",
              "      <td>White</td>\n",
              "      <td>Male</td>\n",
              "      <td>0</td>\n",
              "      <td>0</td>\n",
              "      <td>United-States</td>\n",
              "      <td>não aprovado</td>\n",
              "    </tr>\n",
              "    <tr>\n",
              "      <th>3</th>\n",
              "      <td>53</td>\n",
              "      <td>Private</td>\n",
              "      <td>234721</td>\n",
              "      <td>11th</td>\n",
              "      <td>Married-civ-spouse</td>\n",
              "      <td>Handlers-cleaners</td>\n",
              "      <td>Husband</td>\n",
              "      <td>Black</td>\n",
              "      <td>Male</td>\n",
              "      <td>0</td>\n",
              "      <td>0</td>\n",
              "      <td>United-States</td>\n",
              "      <td>não aprovado</td>\n",
              "    </tr>\n",
              "    <tr>\n",
              "      <th>4</th>\n",
              "      <td>28</td>\n",
              "      <td>Private</td>\n",
              "      <td>338409</td>\n",
              "      <td>Bachelors</td>\n",
              "      <td>Married-civ-spouse</td>\n",
              "      <td>Prof-specialty</td>\n",
              "      <td>Wife</td>\n",
              "      <td>Black</td>\n",
              "      <td>Female</td>\n",
              "      <td>0</td>\n",
              "      <td>0</td>\n",
              "      <td>Cuba</td>\n",
              "      <td>não aprovado</td>\n",
              "    </tr>\n",
              "    <tr>\n",
              "      <th>...</th>\n",
              "      <td>...</td>\n",
              "      <td>...</td>\n",
              "      <td>...</td>\n",
              "      <td>...</td>\n",
              "      <td>...</td>\n",
              "      <td>...</td>\n",
              "      <td>...</td>\n",
              "      <td>...</td>\n",
              "      <td>...</td>\n",
              "      <td>...</td>\n",
              "      <td>...</td>\n",
              "      <td>...</td>\n",
              "      <td>...</td>\n",
              "    </tr>\n",
              "    <tr>\n",
              "      <th>32556</th>\n",
              "      <td>27</td>\n",
              "      <td>Private</td>\n",
              "      <td>257302</td>\n",
              "      <td>Assoc-acdm</td>\n",
              "      <td>Married-civ-spouse</td>\n",
              "      <td>Tech-support</td>\n",
              "      <td>Wife</td>\n",
              "      <td>White</td>\n",
              "      <td>Female</td>\n",
              "      <td>0</td>\n",
              "      <td>0</td>\n",
              "      <td>United-States</td>\n",
              "      <td>não aprovado</td>\n",
              "    </tr>\n",
              "    <tr>\n",
              "      <th>32557</th>\n",
              "      <td>40</td>\n",
              "      <td>Private</td>\n",
              "      <td>154374</td>\n",
              "      <td>HS-grad</td>\n",
              "      <td>Married-civ-spouse</td>\n",
              "      <td>Machine-op-inspct</td>\n",
              "      <td>Husband</td>\n",
              "      <td>White</td>\n",
              "      <td>Male</td>\n",
              "      <td>0</td>\n",
              "      <td>0</td>\n",
              "      <td>United-States</td>\n",
              "      <td>APROVADO</td>\n",
              "    </tr>\n",
              "    <tr>\n",
              "      <th>32558</th>\n",
              "      <td>58</td>\n",
              "      <td>Private</td>\n",
              "      <td>151910</td>\n",
              "      <td>HS-grad</td>\n",
              "      <td>Widowed</td>\n",
              "      <td>Adm-clerical</td>\n",
              "      <td>Unmarried</td>\n",
              "      <td>White</td>\n",
              "      <td>Female</td>\n",
              "      <td>0</td>\n",
              "      <td>0</td>\n",
              "      <td>United-States</td>\n",
              "      <td>não aprovado</td>\n",
              "    </tr>\n",
              "    <tr>\n",
              "      <th>32559</th>\n",
              "      <td>22</td>\n",
              "      <td>Private</td>\n",
              "      <td>201490</td>\n",
              "      <td>HS-grad</td>\n",
              "      <td>Never-married</td>\n",
              "      <td>Adm-clerical</td>\n",
              "      <td>Own-child</td>\n",
              "      <td>White</td>\n",
              "      <td>Male</td>\n",
              "      <td>0</td>\n",
              "      <td>0</td>\n",
              "      <td>United-States</td>\n",
              "      <td>não aprovado</td>\n",
              "    </tr>\n",
              "    <tr>\n",
              "      <th>32560</th>\n",
              "      <td>52</td>\n",
              "      <td>Self-emp-inc</td>\n",
              "      <td>287927</td>\n",
              "      <td>HS-grad</td>\n",
              "      <td>Married-civ-spouse</td>\n",
              "      <td>Exec-managerial</td>\n",
              "      <td>Wife</td>\n",
              "      <td>White</td>\n",
              "      <td>Female</td>\n",
              "      <td>15024</td>\n",
              "      <td>0</td>\n",
              "      <td>United-States</td>\n",
              "      <td>APROVADO</td>\n",
              "    </tr>\n",
              "  </tbody>\n",
              "</table>\n",
              "<p>32561 rows × 13 columns</p>\n",
              "</div>\n",
              "      <button class=\"colab-df-convert\" onclick=\"convertToInteractive('df-054290fa-7f05-40aa-953d-94f1e23a9adb')\"\n",
              "              title=\"Convert this dataframe to an interactive table.\"\n",
              "              style=\"display:none;\">\n",
              "        \n",
              "  <svg xmlns=\"http://www.w3.org/2000/svg\" height=\"24px\"viewBox=\"0 0 24 24\"\n",
              "       width=\"24px\">\n",
              "    <path d=\"M0 0h24v24H0V0z\" fill=\"none\"/>\n",
              "    <path d=\"M18.56 5.44l.94 2.06.94-2.06 2.06-.94-2.06-.94-.94-2.06-.94 2.06-2.06.94zm-11 1L8.5 8.5l.94-2.06 2.06-.94-2.06-.94L8.5 2.5l-.94 2.06-2.06.94zm10 10l.94 2.06.94-2.06 2.06-.94-2.06-.94-.94-2.06-.94 2.06-2.06.94z\"/><path d=\"M17.41 7.96l-1.37-1.37c-.4-.4-.92-.59-1.43-.59-.52 0-1.04.2-1.43.59L10.3 9.45l-7.72 7.72c-.78.78-.78 2.05 0 2.83L4 21.41c.39.39.9.59 1.41.59.51 0 1.02-.2 1.41-.59l7.78-7.78 2.81-2.81c.8-.78.8-2.07 0-2.86zM5.41 20L4 18.59l7.72-7.72 1.47 1.35L5.41 20z\"/>\n",
              "  </svg>\n",
              "      </button>\n",
              "      \n",
              "  <style>\n",
              "    .colab-df-container {\n",
              "      display:flex;\n",
              "      flex-wrap:wrap;\n",
              "      gap: 12px;\n",
              "    }\n",
              "\n",
              "    .colab-df-convert {\n",
              "      background-color: #E8F0FE;\n",
              "      border: none;\n",
              "      border-radius: 50%;\n",
              "      cursor: pointer;\n",
              "      display: none;\n",
              "      fill: #1967D2;\n",
              "      height: 32px;\n",
              "      padding: 0 0 0 0;\n",
              "      width: 32px;\n",
              "    }\n",
              "\n",
              "    .colab-df-convert:hover {\n",
              "      background-color: #E2EBFA;\n",
              "      box-shadow: 0px 1px 2px rgba(60, 64, 67, 0.3), 0px 1px 3px 1px rgba(60, 64, 67, 0.15);\n",
              "      fill: #174EA6;\n",
              "    }\n",
              "\n",
              "    [theme=dark] .colab-df-convert {\n",
              "      background-color: #3B4455;\n",
              "      fill: #D2E3FC;\n",
              "    }\n",
              "\n",
              "    [theme=dark] .colab-df-convert:hover {\n",
              "      background-color: #434B5C;\n",
              "      box-shadow: 0px 1px 3px 1px rgba(0, 0, 0, 0.15);\n",
              "      filter: drop-shadow(0px 1px 2px rgba(0, 0, 0, 0.3));\n",
              "      fill: #FFFFFF;\n",
              "    }\n",
              "  </style>\n",
              "\n",
              "      <script>\n",
              "        const buttonEl =\n",
              "          document.querySelector('#df-054290fa-7f05-40aa-953d-94f1e23a9adb button.colab-df-convert');\n",
              "        buttonEl.style.display =\n",
              "          google.colab.kernel.accessAllowed ? 'block' : 'none';\n",
              "\n",
              "        async function convertToInteractive(key) {\n",
              "          const element = document.querySelector('#df-054290fa-7f05-40aa-953d-94f1e23a9adb');\n",
              "          const dataTable =\n",
              "            await google.colab.kernel.invokeFunction('convertToInteractive',\n",
              "                                                     [key], {});\n",
              "          if (!dataTable) return;\n",
              "\n",
              "          const docLinkHtml = 'Like what you see? Visit the ' +\n",
              "            '<a target=\"_blank\" href=https://colab.research.google.com/notebooks/data_table.ipynb>data table notebook</a>'\n",
              "            + ' to learn more about interactive tables.';\n",
              "          element.innerHTML = '';\n",
              "          dataTable['output_type'] = 'display_data';\n",
              "          await google.colab.output.renderOutput(dataTable, element);\n",
              "          const docLink = document.createElement('div');\n",
              "          docLink.innerHTML = docLinkHtml;\n",
              "          element.appendChild(docLink);\n",
              "        }\n",
              "      </script>\n",
              "    </div>\n",
              "  </div>\n",
              "  "
            ]
          },
          "metadata": {},
          "execution_count": 82
        }
      ],
      "source": [
        "dados.drop(['education_num','horas_por_semana'], axis=1, inplace= True) # excluindo a variável número da educação, e horas por semana, por não ter importancias, e ser substituida por renda e educação.\n",
        "dados"
      ]
    },
    {
      "cell_type": "code",
      "execution_count": 4,
      "metadata": {
        "colab": {
          "base_uri": "https://localhost:8080/"
        },
        "id": "4XztfYVxjjQz",
        "outputId": "df185096-a333-4a30-ee89-ce0a4b244f83"
      },
      "outputs": [
        {
          "output_type": "stream",
          "name": "stdout",
          "text": [
            "<class 'pandas.core.frame.DataFrame'>\n",
            "RangeIndex: 32561 entries, 0 to 32560\n",
            "Data columns (total 13 columns):\n",
            " #   Column             Non-Null Count  Dtype \n",
            "---  ------             --------------  ----- \n",
            " 0   idade              32561 non-null  int64 \n",
            " 1   empregador         32561 non-null  object\n",
            " 2   renda              32561 non-null  int64 \n",
            " 3   education          32561 non-null  object\n",
            " 4   estado_civil       32561 non-null  object\n",
            " 5   ocupacao           32561 non-null  object\n",
            " 6   relacionamento     32561 non-null  object\n",
            " 7   race               32561 non-null  object\n",
            " 8   sex                32561 non-null  object\n",
            " 9   investimentos      32561 non-null  int64 \n",
            " 10  endividamento      32561 non-null  int64 \n",
            " 11  nacionalidade      32561 non-null  object\n",
            " 12  aprovacao_credito  32561 non-null  object\n",
            "dtypes: int64(4), object(9)\n",
            "memory usage: 3.2+ MB\n"
          ]
        }
      ],
      "source": [
        "# conhecendo as variáveis, aqui é preciso tratar  os dados categóricas\n",
        "dados.info()"
      ]
    },
    {
      "cell_type": "markdown",
      "source": [
        "- Quanto aos daados nulos, é de fundamental importância saber as origens dos missing vakues caso existam"
      ],
      "metadata": {
        "id": "uyDwyy03MQi2"
      }
    },
    {
      "cell_type": "code",
      "execution_count": 83,
      "metadata": {
        "colab": {
          "base_uri": "https://localhost:8080/"
        },
        "id": "F7dCKvQijhPK",
        "outputId": "246bc06d-a3a4-400c-b7b4-25a847adda77"
      },
      "outputs": [
        {
          "output_type": "execute_result",
          "data": {
            "text/plain": [
              "idade                0.0\n",
              "empregador           0.0\n",
              "renda                0.0\n",
              "education            0.0\n",
              "estado_civil         0.0\n",
              "ocupacao             0.0\n",
              "relacionamento       0.0\n",
              "race                 0.0\n",
              "sex                  0.0\n",
              "investimentos        0.0\n",
              "endividamento        0.0\n",
              "nacionalidade        0.0\n",
              "aprovacao_credito    0.0\n",
              "dtype: float64"
            ]
          },
          "metadata": {},
          "execution_count": 83
        }
      ],
      "source": [
        "# verificando os dados nulos\n",
        "dados.isnull().mean() "
      ]
    },
    {
      "cell_type": "code",
      "execution_count": 84,
      "metadata": {
        "colab": {
          "base_uri": "https://localhost:8080/"
        },
        "id": "OBfeLBIa51YY",
        "outputId": "6e4cd8e8-bf2b-4c12-d414-8b760400760e"
      },
      "outputs": [
        {
          "output_type": "execute_result",
          "data": {
            "text/plain": [
              "60"
            ]
          },
          "metadata": {},
          "execution_count": 84
        }
      ],
      "source": [
        "dados.duplicated().sum() # existem dados duplicados, seram tratados adiante"
      ]
    },
    {
      "cell_type": "code",
      "execution_count": 85,
      "metadata": {
        "colab": {
          "base_uri": "https://localhost:8080/",
          "height": 423
        },
        "id": "AtvB4sTbdyzg",
        "outputId": "1cfcc3da-dc5d-4d77-82e8-49d96e7ce534"
      },
      "outputs": [
        {
          "output_type": "execute_result",
          "data": {
            "text/plain": [
              "       idade        empregador   renda   education        estado_civil  \\\n",
              "0         39         State-gov   77516   Bachelors       Never-married   \n",
              "1         50  Self-emp-not-inc   83311   Bachelors  Married-civ-spouse   \n",
              "2         38           Private  215646     HS-grad            Divorced   \n",
              "3         53           Private  234721        11th  Married-civ-spouse   \n",
              "4         28           Private  338409   Bachelors  Married-civ-spouse   \n",
              "...      ...               ...     ...         ...                 ...   \n",
              "32556     27           Private  257302  Assoc-acdm  Married-civ-spouse   \n",
              "32557     40           Private  154374     HS-grad  Married-civ-spouse   \n",
              "32558     58           Private  151910     HS-grad             Widowed   \n",
              "32559     22           Private  201490     HS-grad       Never-married   \n",
              "32560     52      Self-emp-inc  287927     HS-grad  Married-civ-spouse   \n",
              "\n",
              "                ocupacao relacionamento   race     sex  investimentos  \\\n",
              "0           Adm-clerical  Not-in-family  White    Male           2174   \n",
              "1        Exec-managerial        Husband  White    Male              0   \n",
              "2      Handlers-cleaners  Not-in-family  White    Male              0   \n",
              "3      Handlers-cleaners        Husband  Black    Male              0   \n",
              "4         Prof-specialty           Wife  Black  Female              0   \n",
              "...                  ...            ...    ...     ...            ...   \n",
              "32556       Tech-support           Wife  White  Female              0   \n",
              "32557  Machine-op-inspct        Husband  White    Male              0   \n",
              "32558       Adm-clerical      Unmarried  White  Female              0   \n",
              "32559       Adm-clerical      Own-child  White    Male              0   \n",
              "32560    Exec-managerial           Wife  White  Female          15024   \n",
              "\n",
              "       endividamento  nacionalidade aprovacao_credito  \n",
              "0                  0  United-States      não aprovado  \n",
              "1                  0  United-States      não aprovado  \n",
              "2                  0  United-States      não aprovado  \n",
              "3                  0  United-States      não aprovado  \n",
              "4                  0           Cuba      não aprovado  \n",
              "...              ...            ...               ...  \n",
              "32556              0  United-States      não aprovado  \n",
              "32557              0  United-States          APROVADO  \n",
              "32558              0  United-States      não aprovado  \n",
              "32559              0  United-States      não aprovado  \n",
              "32560              0  United-States          APROVADO  \n",
              "\n",
              "[32501 rows x 13 columns]"
            ],
            "text/html": [
              "\n",
              "  <div id=\"df-303ac197-9fd2-4f94-b6e5-f5e985df6335\">\n",
              "    <div class=\"colab-df-container\">\n",
              "      <div>\n",
              "<style scoped>\n",
              "    .dataframe tbody tr th:only-of-type {\n",
              "        vertical-align: middle;\n",
              "    }\n",
              "\n",
              "    .dataframe tbody tr th {\n",
              "        vertical-align: top;\n",
              "    }\n",
              "\n",
              "    .dataframe thead th {\n",
              "        text-align: right;\n",
              "    }\n",
              "</style>\n",
              "<table border=\"1\" class=\"dataframe\">\n",
              "  <thead>\n",
              "    <tr style=\"text-align: right;\">\n",
              "      <th></th>\n",
              "      <th>idade</th>\n",
              "      <th>empregador</th>\n",
              "      <th>renda</th>\n",
              "      <th>education</th>\n",
              "      <th>estado_civil</th>\n",
              "      <th>ocupacao</th>\n",
              "      <th>relacionamento</th>\n",
              "      <th>race</th>\n",
              "      <th>sex</th>\n",
              "      <th>investimentos</th>\n",
              "      <th>endividamento</th>\n",
              "      <th>nacionalidade</th>\n",
              "      <th>aprovacao_credito</th>\n",
              "    </tr>\n",
              "  </thead>\n",
              "  <tbody>\n",
              "    <tr>\n",
              "      <th>0</th>\n",
              "      <td>39</td>\n",
              "      <td>State-gov</td>\n",
              "      <td>77516</td>\n",
              "      <td>Bachelors</td>\n",
              "      <td>Never-married</td>\n",
              "      <td>Adm-clerical</td>\n",
              "      <td>Not-in-family</td>\n",
              "      <td>White</td>\n",
              "      <td>Male</td>\n",
              "      <td>2174</td>\n",
              "      <td>0</td>\n",
              "      <td>United-States</td>\n",
              "      <td>não aprovado</td>\n",
              "    </tr>\n",
              "    <tr>\n",
              "      <th>1</th>\n",
              "      <td>50</td>\n",
              "      <td>Self-emp-not-inc</td>\n",
              "      <td>83311</td>\n",
              "      <td>Bachelors</td>\n",
              "      <td>Married-civ-spouse</td>\n",
              "      <td>Exec-managerial</td>\n",
              "      <td>Husband</td>\n",
              "      <td>White</td>\n",
              "      <td>Male</td>\n",
              "      <td>0</td>\n",
              "      <td>0</td>\n",
              "      <td>United-States</td>\n",
              "      <td>não aprovado</td>\n",
              "    </tr>\n",
              "    <tr>\n",
              "      <th>2</th>\n",
              "      <td>38</td>\n",
              "      <td>Private</td>\n",
              "      <td>215646</td>\n",
              "      <td>HS-grad</td>\n",
              "      <td>Divorced</td>\n",
              "      <td>Handlers-cleaners</td>\n",
              "      <td>Not-in-family</td>\n",
              "      <td>White</td>\n",
              "      <td>Male</td>\n",
              "      <td>0</td>\n",
              "      <td>0</td>\n",
              "      <td>United-States</td>\n",
              "      <td>não aprovado</td>\n",
              "    </tr>\n",
              "    <tr>\n",
              "      <th>3</th>\n",
              "      <td>53</td>\n",
              "      <td>Private</td>\n",
              "      <td>234721</td>\n",
              "      <td>11th</td>\n",
              "      <td>Married-civ-spouse</td>\n",
              "      <td>Handlers-cleaners</td>\n",
              "      <td>Husband</td>\n",
              "      <td>Black</td>\n",
              "      <td>Male</td>\n",
              "      <td>0</td>\n",
              "      <td>0</td>\n",
              "      <td>United-States</td>\n",
              "      <td>não aprovado</td>\n",
              "    </tr>\n",
              "    <tr>\n",
              "      <th>4</th>\n",
              "      <td>28</td>\n",
              "      <td>Private</td>\n",
              "      <td>338409</td>\n",
              "      <td>Bachelors</td>\n",
              "      <td>Married-civ-spouse</td>\n",
              "      <td>Prof-specialty</td>\n",
              "      <td>Wife</td>\n",
              "      <td>Black</td>\n",
              "      <td>Female</td>\n",
              "      <td>0</td>\n",
              "      <td>0</td>\n",
              "      <td>Cuba</td>\n",
              "      <td>não aprovado</td>\n",
              "    </tr>\n",
              "    <tr>\n",
              "      <th>...</th>\n",
              "      <td>...</td>\n",
              "      <td>...</td>\n",
              "      <td>...</td>\n",
              "      <td>...</td>\n",
              "      <td>...</td>\n",
              "      <td>...</td>\n",
              "      <td>...</td>\n",
              "      <td>...</td>\n",
              "      <td>...</td>\n",
              "      <td>...</td>\n",
              "      <td>...</td>\n",
              "      <td>...</td>\n",
              "      <td>...</td>\n",
              "    </tr>\n",
              "    <tr>\n",
              "      <th>32556</th>\n",
              "      <td>27</td>\n",
              "      <td>Private</td>\n",
              "      <td>257302</td>\n",
              "      <td>Assoc-acdm</td>\n",
              "      <td>Married-civ-spouse</td>\n",
              "      <td>Tech-support</td>\n",
              "      <td>Wife</td>\n",
              "      <td>White</td>\n",
              "      <td>Female</td>\n",
              "      <td>0</td>\n",
              "      <td>0</td>\n",
              "      <td>United-States</td>\n",
              "      <td>não aprovado</td>\n",
              "    </tr>\n",
              "    <tr>\n",
              "      <th>32557</th>\n",
              "      <td>40</td>\n",
              "      <td>Private</td>\n",
              "      <td>154374</td>\n",
              "      <td>HS-grad</td>\n",
              "      <td>Married-civ-spouse</td>\n",
              "      <td>Machine-op-inspct</td>\n",
              "      <td>Husband</td>\n",
              "      <td>White</td>\n",
              "      <td>Male</td>\n",
              "      <td>0</td>\n",
              "      <td>0</td>\n",
              "      <td>United-States</td>\n",
              "      <td>APROVADO</td>\n",
              "    </tr>\n",
              "    <tr>\n",
              "      <th>32558</th>\n",
              "      <td>58</td>\n",
              "      <td>Private</td>\n",
              "      <td>151910</td>\n",
              "      <td>HS-grad</td>\n",
              "      <td>Widowed</td>\n",
              "      <td>Adm-clerical</td>\n",
              "      <td>Unmarried</td>\n",
              "      <td>White</td>\n",
              "      <td>Female</td>\n",
              "      <td>0</td>\n",
              "      <td>0</td>\n",
              "      <td>United-States</td>\n",
              "      <td>não aprovado</td>\n",
              "    </tr>\n",
              "    <tr>\n",
              "      <th>32559</th>\n",
              "      <td>22</td>\n",
              "      <td>Private</td>\n",
              "      <td>201490</td>\n",
              "      <td>HS-grad</td>\n",
              "      <td>Never-married</td>\n",
              "      <td>Adm-clerical</td>\n",
              "      <td>Own-child</td>\n",
              "      <td>White</td>\n",
              "      <td>Male</td>\n",
              "      <td>0</td>\n",
              "      <td>0</td>\n",
              "      <td>United-States</td>\n",
              "      <td>não aprovado</td>\n",
              "    </tr>\n",
              "    <tr>\n",
              "      <th>32560</th>\n",
              "      <td>52</td>\n",
              "      <td>Self-emp-inc</td>\n",
              "      <td>287927</td>\n",
              "      <td>HS-grad</td>\n",
              "      <td>Married-civ-spouse</td>\n",
              "      <td>Exec-managerial</td>\n",
              "      <td>Wife</td>\n",
              "      <td>White</td>\n",
              "      <td>Female</td>\n",
              "      <td>15024</td>\n",
              "      <td>0</td>\n",
              "      <td>United-States</td>\n",
              "      <td>APROVADO</td>\n",
              "    </tr>\n",
              "  </tbody>\n",
              "</table>\n",
              "<p>32501 rows × 13 columns</p>\n",
              "</div>\n",
              "      <button class=\"colab-df-convert\" onclick=\"convertToInteractive('df-303ac197-9fd2-4f94-b6e5-f5e985df6335')\"\n",
              "              title=\"Convert this dataframe to an interactive table.\"\n",
              "              style=\"display:none;\">\n",
              "        \n",
              "  <svg xmlns=\"http://www.w3.org/2000/svg\" height=\"24px\"viewBox=\"0 0 24 24\"\n",
              "       width=\"24px\">\n",
              "    <path d=\"M0 0h24v24H0V0z\" fill=\"none\"/>\n",
              "    <path d=\"M18.56 5.44l.94 2.06.94-2.06 2.06-.94-2.06-.94-.94-2.06-.94 2.06-2.06.94zm-11 1L8.5 8.5l.94-2.06 2.06-.94-2.06-.94L8.5 2.5l-.94 2.06-2.06.94zm10 10l.94 2.06.94-2.06 2.06-.94-2.06-.94-.94-2.06-.94 2.06-2.06.94z\"/><path d=\"M17.41 7.96l-1.37-1.37c-.4-.4-.92-.59-1.43-.59-.52 0-1.04.2-1.43.59L10.3 9.45l-7.72 7.72c-.78.78-.78 2.05 0 2.83L4 21.41c.39.39.9.59 1.41.59.51 0 1.02-.2 1.41-.59l7.78-7.78 2.81-2.81c.8-.78.8-2.07 0-2.86zM5.41 20L4 18.59l7.72-7.72 1.47 1.35L5.41 20z\"/>\n",
              "  </svg>\n",
              "      </button>\n",
              "      \n",
              "  <style>\n",
              "    .colab-df-container {\n",
              "      display:flex;\n",
              "      flex-wrap:wrap;\n",
              "      gap: 12px;\n",
              "    }\n",
              "\n",
              "    .colab-df-convert {\n",
              "      background-color: #E8F0FE;\n",
              "      border: none;\n",
              "      border-radius: 50%;\n",
              "      cursor: pointer;\n",
              "      display: none;\n",
              "      fill: #1967D2;\n",
              "      height: 32px;\n",
              "      padding: 0 0 0 0;\n",
              "      width: 32px;\n",
              "    }\n",
              "\n",
              "    .colab-df-convert:hover {\n",
              "      background-color: #E2EBFA;\n",
              "      box-shadow: 0px 1px 2px rgba(60, 64, 67, 0.3), 0px 1px 3px 1px rgba(60, 64, 67, 0.15);\n",
              "      fill: #174EA6;\n",
              "    }\n",
              "\n",
              "    [theme=dark] .colab-df-convert {\n",
              "      background-color: #3B4455;\n",
              "      fill: #D2E3FC;\n",
              "    }\n",
              "\n",
              "    [theme=dark] .colab-df-convert:hover {\n",
              "      background-color: #434B5C;\n",
              "      box-shadow: 0px 1px 3px 1px rgba(0, 0, 0, 0.15);\n",
              "      filter: drop-shadow(0px 1px 2px rgba(0, 0, 0, 0.3));\n",
              "      fill: #FFFFFF;\n",
              "    }\n",
              "  </style>\n",
              "\n",
              "      <script>\n",
              "        const buttonEl =\n",
              "          document.querySelector('#df-303ac197-9fd2-4f94-b6e5-f5e985df6335 button.colab-df-convert');\n",
              "        buttonEl.style.display =\n",
              "          google.colab.kernel.accessAllowed ? 'block' : 'none';\n",
              "\n",
              "        async function convertToInteractive(key) {\n",
              "          const element = document.querySelector('#df-303ac197-9fd2-4f94-b6e5-f5e985df6335');\n",
              "          const dataTable =\n",
              "            await google.colab.kernel.invokeFunction('convertToInteractive',\n",
              "                                                     [key], {});\n",
              "          if (!dataTable) return;\n",
              "\n",
              "          const docLinkHtml = 'Like what you see? Visit the ' +\n",
              "            '<a target=\"_blank\" href=https://colab.research.google.com/notebooks/data_table.ipynb>data table notebook</a>'\n",
              "            + ' to learn more about interactive tables.';\n",
              "          element.innerHTML = '';\n",
              "          dataTable['output_type'] = 'display_data';\n",
              "          await google.colab.output.renderOutput(dataTable, element);\n",
              "          const docLink = document.createElement('div');\n",
              "          docLink.innerHTML = docLinkHtml;\n",
              "          element.appendChild(docLink);\n",
              "        }\n",
              "      </script>\n",
              "    </div>\n",
              "  </div>\n",
              "  "
            ]
          },
          "metadata": {},
          "execution_count": 85
        }
      ],
      "source": [
        "dados.drop_duplicates() # tratando dados duplicados"
      ]
    },
    {
      "cell_type": "code",
      "execution_count": 86,
      "metadata": {
        "colab": {
          "base_uri": "https://localhost:8080/"
        },
        "id": "_trYdsXWxuJY",
        "outputId": "50100d04-a055-4c97-e7c4-6496d5484b20"
      },
      "outputs": [
        {
          "output_type": "execute_result",
          "data": {
            "text/plain": [
              "(32561, 13)"
            ]
          },
          "metadata": {},
          "execution_count": 86
        }
      ],
      "source": [
        "dados.shape # buscando as linhas e colunas"
      ]
    },
    {
      "cell_type": "code",
      "execution_count": 87,
      "metadata": {
        "colab": {
          "base_uri": "https://localhost:8080/",
          "height": 300
        },
        "id": "JsfI7O4OlQPe",
        "outputId": "38c08ed0-bb3b-4e45-9ad5-92ac7acf669e"
      },
      "outputs": [
        {
          "output_type": "execute_result",
          "data": {
            "text/plain": [
              "              idade         renda  investimentos  endividamento\n",
              "count  32561.000000  3.256100e+04   32561.000000   32561.000000\n",
              "mean      38.581647  1.897784e+05    1077.648844      87.303830\n",
              "std       13.640433  1.055500e+05    7385.292085     402.960219\n",
              "min       17.000000  1.228500e+04       0.000000       0.000000\n",
              "25%       28.000000  1.178270e+05       0.000000       0.000000\n",
              "50%       37.000000  1.783560e+05       0.000000       0.000000\n",
              "75%       48.000000  2.370510e+05       0.000000       0.000000\n",
              "max       90.000000  1.484705e+06   99999.000000    4356.000000"
            ],
            "text/html": [
              "\n",
              "  <div id=\"df-6b82a567-e214-4918-91ef-c6ad2bdffdca\">\n",
              "    <div class=\"colab-df-container\">\n",
              "      <div>\n",
              "<style scoped>\n",
              "    .dataframe tbody tr th:only-of-type {\n",
              "        vertical-align: middle;\n",
              "    }\n",
              "\n",
              "    .dataframe tbody tr th {\n",
              "        vertical-align: top;\n",
              "    }\n",
              "\n",
              "    .dataframe thead th {\n",
              "        text-align: right;\n",
              "    }\n",
              "</style>\n",
              "<table border=\"1\" class=\"dataframe\">\n",
              "  <thead>\n",
              "    <tr style=\"text-align: right;\">\n",
              "      <th></th>\n",
              "      <th>idade</th>\n",
              "      <th>renda</th>\n",
              "      <th>investimentos</th>\n",
              "      <th>endividamento</th>\n",
              "    </tr>\n",
              "  </thead>\n",
              "  <tbody>\n",
              "    <tr>\n",
              "      <th>count</th>\n",
              "      <td>32561.000000</td>\n",
              "      <td>3.256100e+04</td>\n",
              "      <td>32561.000000</td>\n",
              "      <td>32561.000000</td>\n",
              "    </tr>\n",
              "    <tr>\n",
              "      <th>mean</th>\n",
              "      <td>38.581647</td>\n",
              "      <td>1.897784e+05</td>\n",
              "      <td>1077.648844</td>\n",
              "      <td>87.303830</td>\n",
              "    </tr>\n",
              "    <tr>\n",
              "      <th>std</th>\n",
              "      <td>13.640433</td>\n",
              "      <td>1.055500e+05</td>\n",
              "      <td>7385.292085</td>\n",
              "      <td>402.960219</td>\n",
              "    </tr>\n",
              "    <tr>\n",
              "      <th>min</th>\n",
              "      <td>17.000000</td>\n",
              "      <td>1.228500e+04</td>\n",
              "      <td>0.000000</td>\n",
              "      <td>0.000000</td>\n",
              "    </tr>\n",
              "    <tr>\n",
              "      <th>25%</th>\n",
              "      <td>28.000000</td>\n",
              "      <td>1.178270e+05</td>\n",
              "      <td>0.000000</td>\n",
              "      <td>0.000000</td>\n",
              "    </tr>\n",
              "    <tr>\n",
              "      <th>50%</th>\n",
              "      <td>37.000000</td>\n",
              "      <td>1.783560e+05</td>\n",
              "      <td>0.000000</td>\n",
              "      <td>0.000000</td>\n",
              "    </tr>\n",
              "    <tr>\n",
              "      <th>75%</th>\n",
              "      <td>48.000000</td>\n",
              "      <td>2.370510e+05</td>\n",
              "      <td>0.000000</td>\n",
              "      <td>0.000000</td>\n",
              "    </tr>\n",
              "    <tr>\n",
              "      <th>max</th>\n",
              "      <td>90.000000</td>\n",
              "      <td>1.484705e+06</td>\n",
              "      <td>99999.000000</td>\n",
              "      <td>4356.000000</td>\n",
              "    </tr>\n",
              "  </tbody>\n",
              "</table>\n",
              "</div>\n",
              "      <button class=\"colab-df-convert\" onclick=\"convertToInteractive('df-6b82a567-e214-4918-91ef-c6ad2bdffdca')\"\n",
              "              title=\"Convert this dataframe to an interactive table.\"\n",
              "              style=\"display:none;\">\n",
              "        \n",
              "  <svg xmlns=\"http://www.w3.org/2000/svg\" height=\"24px\"viewBox=\"0 0 24 24\"\n",
              "       width=\"24px\">\n",
              "    <path d=\"M0 0h24v24H0V0z\" fill=\"none\"/>\n",
              "    <path d=\"M18.56 5.44l.94 2.06.94-2.06 2.06-.94-2.06-.94-.94-2.06-.94 2.06-2.06.94zm-11 1L8.5 8.5l.94-2.06 2.06-.94-2.06-.94L8.5 2.5l-.94 2.06-2.06.94zm10 10l.94 2.06.94-2.06 2.06-.94-2.06-.94-.94-2.06-.94 2.06-2.06.94z\"/><path d=\"M17.41 7.96l-1.37-1.37c-.4-.4-.92-.59-1.43-.59-.52 0-1.04.2-1.43.59L10.3 9.45l-7.72 7.72c-.78.78-.78 2.05 0 2.83L4 21.41c.39.39.9.59 1.41.59.51 0 1.02-.2 1.41-.59l7.78-7.78 2.81-2.81c.8-.78.8-2.07 0-2.86zM5.41 20L4 18.59l7.72-7.72 1.47 1.35L5.41 20z\"/>\n",
              "  </svg>\n",
              "      </button>\n",
              "      \n",
              "  <style>\n",
              "    .colab-df-container {\n",
              "      display:flex;\n",
              "      flex-wrap:wrap;\n",
              "      gap: 12px;\n",
              "    }\n",
              "\n",
              "    .colab-df-convert {\n",
              "      background-color: #E8F0FE;\n",
              "      border: none;\n",
              "      border-radius: 50%;\n",
              "      cursor: pointer;\n",
              "      display: none;\n",
              "      fill: #1967D2;\n",
              "      height: 32px;\n",
              "      padding: 0 0 0 0;\n",
              "      width: 32px;\n",
              "    }\n",
              "\n",
              "    .colab-df-convert:hover {\n",
              "      background-color: #E2EBFA;\n",
              "      box-shadow: 0px 1px 2px rgba(60, 64, 67, 0.3), 0px 1px 3px 1px rgba(60, 64, 67, 0.15);\n",
              "      fill: #174EA6;\n",
              "    }\n",
              "\n",
              "    [theme=dark] .colab-df-convert {\n",
              "      background-color: #3B4455;\n",
              "      fill: #D2E3FC;\n",
              "    }\n",
              "\n",
              "    [theme=dark] .colab-df-convert:hover {\n",
              "      background-color: #434B5C;\n",
              "      box-shadow: 0px 1px 3px 1px rgba(0, 0, 0, 0.15);\n",
              "      filter: drop-shadow(0px 1px 2px rgba(0, 0, 0, 0.3));\n",
              "      fill: #FFFFFF;\n",
              "    }\n",
              "  </style>\n",
              "\n",
              "      <script>\n",
              "        const buttonEl =\n",
              "          document.querySelector('#df-6b82a567-e214-4918-91ef-c6ad2bdffdca button.colab-df-convert');\n",
              "        buttonEl.style.display =\n",
              "          google.colab.kernel.accessAllowed ? 'block' : 'none';\n",
              "\n",
              "        async function convertToInteractive(key) {\n",
              "          const element = document.querySelector('#df-6b82a567-e214-4918-91ef-c6ad2bdffdca');\n",
              "          const dataTable =\n",
              "            await google.colab.kernel.invokeFunction('convertToInteractive',\n",
              "                                                     [key], {});\n",
              "          if (!dataTable) return;\n",
              "\n",
              "          const docLinkHtml = 'Like what you see? Visit the ' +\n",
              "            '<a target=\"_blank\" href=https://colab.research.google.com/notebooks/data_table.ipynb>data table notebook</a>'\n",
              "            + ' to learn more about interactive tables.';\n",
              "          element.innerHTML = '';\n",
              "          dataTable['output_type'] = 'display_data';\n",
              "          await google.colab.output.renderOutput(dataTable, element);\n",
              "          const docLink = document.createElement('div');\n",
              "          docLink.innerHTML = docLinkHtml;\n",
              "          element.appendChild(docLink);\n",
              "        }\n",
              "      </script>\n",
              "    </div>\n",
              "  </div>\n",
              "  "
            ]
          },
          "metadata": {},
          "execution_count": 87
        }
      ],
      "source": [
        "# fazendo uma breve análise estatistica dos dados\n",
        "dados.describe()"
      ]
    },
    {
      "cell_type": "markdown",
      "metadata": {
        "id": "TCyE3lQAoUFC"
      },
      "source": [
        "- Aqui percebe-se que a idade varia entre 17 e 90 anos, sendo que 50% tem até 37 anos. Isso requer atenção ao público alvo do negócio em ações de marketing e serviços.\n",
        "- Percebe-se que até 50% dos clientes tem até  1.783560 na conta. "
      ]
    },
    {
      "cell_type": "code",
      "execution_count": 88,
      "metadata": {
        "colab": {
          "base_uri": "https://localhost:8080/"
        },
        "id": "uj2I_qr0mq8b",
        "outputId": "fd5d7e37-6ca9-4d6d-c0b4-b1c676a5933a"
      },
      "outputs": [
        {
          "output_type": "execute_result",
          "data": {
            "text/plain": [
              "1484705"
            ]
          },
          "metadata": {},
          "execution_count": 88
        }
      ],
      "source": [
        "# renda máxima em dólar\n",
        "dados['renda'].max()\n"
      ]
    },
    {
      "cell_type": "code",
      "execution_count": 89,
      "metadata": {
        "colab": {
          "base_uri": "https://localhost:8080/"
        },
        "id": "_8kJCVNjnRac",
        "outputId": "44b68595-6ef1-4a67-b91b-9d6db312fdb6"
      },
      "outputs": [
        {
          "output_type": "execute_result",
          "data": {
            "text/plain": [
              "12285"
            ]
          },
          "metadata": {},
          "execution_count": 89
        }
      ],
      "source": [
        "# renda minima em dólar\n",
        "\n",
        "dados['renda'].min()"
      ]
    },
    {
      "cell_type": "code",
      "execution_count": 90,
      "metadata": {
        "colab": {
          "base_uri": "https://localhost:8080/"
        },
        "id": "7nKIjgJasYHq",
        "outputId": "f688310c-fa3f-4132-8479-79ec992057aa"
      },
      "outputs": [
        {
          "output_type": "execute_result",
          "data": {
            "text/plain": [
              "Index(['idade', 'empregador', 'renda', 'education', 'estado_civil', 'ocupacao',\n",
              "       'relacionamento', 'race', 'sex', 'investimentos', 'endividamento',\n",
              "       'nacionalidade', 'aprovacao_credito'],\n",
              "      dtype='object')"
            ]
          },
          "metadata": {},
          "execution_count": 90
        }
      ],
      "source": [
        "#Retornando as colunas\n",
        "dados.columns\n"
      ]
    },
    {
      "cell_type": "code",
      "execution_count": 91,
      "metadata": {
        "colab": {
          "base_uri": "https://localhost:8080/"
        },
        "id": "x9WdE4yjsWpA",
        "outputId": "4e28a1f4-43d4-4e30-cc51-c8214aa11a05"
      },
      "outputs": [
        {
          "output_type": "execute_result",
          "data": {
            "text/plain": [
              "não aprovado    24720\n",
              "APROVADO         7841\n",
              "Name: aprovacao_credito, dtype: int64"
            ]
          },
          "metadata": {},
          "execution_count": 91
        }
      ],
      "source": [
        "# fazendo a contagem dos valores de créditos aprovados e não aprovados\n",
        "dados['aprovacao_credito'].value_counts()\n"
      ]
    },
    {
      "cell_type": "code",
      "execution_count": 92,
      "metadata": {
        "colab": {
          "base_uri": "https://localhost:8080/",
          "height": 339
        },
        "id": "NbJdpT4orgkI",
        "outputId": "e9633e1e-b386-410f-eaef-ef94a8513d7a"
      },
      "outputs": [
        {
          "output_type": "display_data",
          "data": {
            "text/plain": [
              "<Figure size 720x360 with 1 Axes>"
            ],
            "image/png": "[encoded data removed]"
          },
          "metadata": {}
        }
      ],
      "source": [
        "sns.countplot(x = dados['aprovacao_credito']);\n",
        "             "
      ]
    },
    {
      "cell_type": "markdown",
      "metadata": {
        "id": "R-KMUt2SuOzR"
      },
      "source": [
        "-Percebe-se que os crédito não aprovados (0) são maiores que os aprovado(1), visto um resultado normal dentro do modelo do negócio."
      ]
    },
    {
      "cell_type": "code",
      "execution_count": 93,
      "metadata": {
        "colab": {
          "base_uri": "https://localhost:8080/",
          "height": 406
        },
        "id": "OxdPZ0wEvCK6",
        "outputId": "d8a5f85e-12f2-4fcd-d2c9-fe87a6557afa"
      },
      "outputs": [
        {
          "output_type": "display_data",
          "data": {
            "text/plain": [
              "<Figure size 576x432 with 1 Axes>"
            ],
            "image/png": "[encoded data removed]"
          },
          "metadata": {}
        }
      ],
      "source": [
        "dados.groupby('aprovacao_credito')['renda'].sum().sort_values().plot(kind = 'barh',color=['r','b'] , figsize=(8,6), title=\"Renda por crédito\"); "
      ]
    },
    {
      "cell_type": "markdown",
      "metadata": {
        "id": "WBk6v2P115sf"
      },
      "source": [
        "-O gráfico acima mostra uma discrepância entre os créditos não aprovados e aprovados com relação à sumarização da renda, isto significa que na  renda bruta prevalece os créditos não aprovados, logo, existe margem para se aumentar os créditos aos clientes."
      ]
    },
    {
      "cell_type": "code",
      "execution_count": 140,
      "metadata": {
        "colab": {
          "base_uri": "https://localhost:8080/",
          "height": 407
        },
        "id": "vWfgdOJ25v4C",
        "outputId": "e1a31b0e-64a3-4a93-dc32-89f6e561cada"
      },
      "outputs": [
        {
          "output_type": "display_data",
          "data": {
            "text/plain": [
              "<Figure size 576x432 with 1 Axes>"
            ],
            "image/png": "[encoded data removed]"
          },
          "metadata": {}
        }
      ],
      "source": [
        "dados.groupby('aprovacao_credito')['endividamento'].mean().sort_values().plot(kind = 'bar',color=['r','b'] , ylabel= 'Média'  ,figsize=(8,6),  title=\"Aprovação de crédito por endividamento\"); "
      ]
    },
    {
      "cell_type": "markdown",
      "metadata": {
        "id": "gZPQWLs89U5z"
      },
      "source": [
        "- O gráfico acima apresenta que os créditos aprovados tem uma relação com as médias dos endividamentos, isto significa que existe muito crédito por endividamento, para o negócio talvez seja interessante analisar as duas relações para monitorar o comportamento dos créditos."
      ]
    },
    {
      "cell_type": "code",
      "execution_count": 95,
      "metadata": {
        "colab": {
          "base_uri": "https://localhost:8080/",
          "height": 475
        },
        "id": "f_siUCXI_HAM",
        "outputId": "fdab59b2-4043-4bea-802b-cdc2a7884d4b"
      },
      "outputs": [
        {
          "output_type": "display_data",
          "data": {
            "text/plain": [
              "<Figure size 576x432 with 1 Axes>"
            ],
            "image/png": "[encoded data removed]"
          },
          "metadata": {}
        }
      ],
      "source": [
        "dados.groupby('aprovacao_credito')['investimentos'].sum().sort_values().plot(kind = 'bar', color=['r','b'] , xlabel='Aprovação de crédito' , ylabel= 'Número Total'  ,figsize=(8,6), title=\"Aprovação de crédito por investimentos\"); "
      ]
    },
    {
      "cell_type": "markdown",
      "metadata": {
        "id": "bxEugtO7A1Zv"
      },
      "source": [
        "- O gráfico acima retrata que a sumarização dos investimentos é uma consequência dos créditos aprovados, ou seja, quanto mais créditos cedidos aos clientes, mais investimentos ele poderá adquirir"
      ]
    },
    {
      "cell_type": "code",
      "execution_count": 96,
      "metadata": {
        "colab": {
          "base_uri": "https://localhost:8080/",
          "height": 475
        },
        "id": "YxPUicCiDgQ4",
        "outputId": "db3e6da8-a529-4cdc-f996-0cc78ba908a5"
      },
      "outputs": [
        {
          "output_type": "display_data",
          "data": {
            "text/plain": [
              "<Figure size 576x432 with 1 Axes>"
            ],
            "image/png": "[encoded data removed]"
          },
          "metadata": {}
        }
      ],
      "source": [
        "dados.groupby('aprovacao_credito')['idade'].mean().sort_values().plot(kind = 'bar', color=['r','b']   ,  xlabel='Aprovação de crédito' , ylabel= 'Idade'  , figsize=(8,6), title=\"Aprovação de crédito por idade\"); "
      ]
    },
    {
      "cell_type": "markdown",
      "metadata": {
        "id": "PYSqJLluFOIz"
      },
      "source": [
        "- O gráfico da idade por crédito retrata que a média de idade dos créditos aprovados estão na faixa de 44 anos, emquanto que, os não aprovados estão na faixa de 36 anos. Por se tratar de idades equiparadas, pressupõe que a idade por si só, não define resultados importantes. No entanto, é importante saber a faixa etária â qual o negócio está envolvido."
      ]
    },
    {
      "cell_type": "code",
      "execution_count": 97,
      "metadata": {
        "colab": {
          "base_uri": "https://localhost:8080/"
        },
        "id": "UpwHCi53HnZh",
        "outputId": "f00e8eb1-06b1-46df-d741-860ebeb33871"
      },
      "outputs": [
        {
          "output_type": "execute_result",
          "data": {
            "text/plain": [
              "Married-civ-spouse       0.459937\n",
              "Never-married            0.328092\n",
              "Divorced                 0.136452\n",
              "Separated                0.031479\n",
              "Widowed                  0.030497\n",
              "Married-spouse-absent    0.012837\n",
              "Married-AF-spouse        0.000706\n",
              "Name: estado_civil, dtype: float64"
            ]
          },
          "metadata": {},
          "execution_count": 97
        }
      ],
      "source": [
        "# Calculando o percentual da classe estado civil\n",
        "n=dados['estado_civil'].shape[0]\n",
        "(dados['estado_civil'].value_counts()/n)"
      ]
    },
    {
      "cell_type": "markdown",
      "metadata": {
        "id": "r8449Z40L4b9"
      },
      "source": [
        "- Aqui pecebe-se que 45% são casados, 32% nunca casou, 13% divorciados e 0,03% viúvos, é interessante saber esse perfil pois quanto maior a composição da familia, existe uma tendência a maiores créditos."
      ]
    },
    {
      "cell_type": "code",
      "execution_count": 98,
      "metadata": {
        "colab": {
          "base_uri": "https://localhost:8080/"
        },
        "id": "JqlLl_lput-q",
        "outputId": "efb84ecc-9e62-44b0-baeb-2ad4daa62e3a"
      },
      "outputs": [
        {
          "output_type": "execute_result",
          "data": {
            "text/plain": [
              "aprovacao_credito  estado_civil         \n",
              "não aprovado       Never-married            10192\n",
              "                   Married-civ-spouse        8284\n",
              "APROVADO           Married-civ-spouse        6692\n",
              "não aprovado       Divorced                  3980\n",
              "                   Separated                  959\n",
              "                   Widowed                    908\n",
              "APROVADO           Never-married              491\n",
              "                   Divorced                   463\n",
              "não aprovado       Married-spouse-absent      384\n",
              "APROVADO           Widowed                     85\n",
              "                   Separated                   66\n",
              "                   Married-spouse-absent       34\n",
              "não aprovado       Married-AF-spouse           13\n",
              "APROVADO           Married-AF-spouse           10\n",
              "Name: estado_civil, dtype: int64"
            ]
          },
          "metadata": {},
          "execution_count": 98
        }
      ],
      "source": [
        "# contagwm dos créditos por estado civil de forma ascendente\n",
        "dados.groupby('aprovacao_credito')['estado_civil'].value_counts().sort_values(ascending = False)"
      ]
    },
    {
      "cell_type": "code",
      "execution_count": 99,
      "metadata": {
        "colab": {
          "base_uri": "https://localhost:8080/",
          "height": 393
        },
        "id": "nzpmRZOqL3jS",
        "outputId": "1ad47682-ec9c-49e9-abdb-0e1709212f63"
      },
      "outputs": [
        {
          "output_type": "display_data",
          "data": {
            "text/plain": [
              "<Figure size 576x432 with 1 Axes>"
            ],
            "image/png": "[encoded data removed]"
          },
          "metadata": {}
        }
      ],
      "source": [
        "# contagem em percentual dos créditos por estado civil\n",
        "dados.groupby('aprovacao_credito')['estado_civil'].value_counts().sort_values().plot(kind = 'barh',xlabel='Aprovação de crédito' , ylabel= 'Percentual'  , color='r', figsize=(8,6), title=\"Aprovação de crédito por estado civil\"); "
      ]
    },
    {
      "cell_type": "markdown",
      "metadata": {
        "id": "GzzDuqJzP5mc"
      },
      "source": [
        "- O gráfico acima retrata que a maioria dos créditos não aprovados  foram  de clientes que nunca  casou-se ,seguido pelos casados, isto significa que outros fatores mais importatntes que o estado civil determinaram à aprovação do crédito, no entanto, existem créditos aprovados de forma a se considerar para os clientes casados"
      ]
    },
    {
      "cell_type": "code",
      "execution_count": 102,
      "metadata": {
        "colab": {
          "base_uri": "https://localhost:8080/"
        },
        "id": "dBrSVsHFP43j",
        "outputId": "00b8beac-6d0d-4688-dc71-7fe6f8606e32"
      },
      "outputs": [
        {
          "output_type": "execute_result",
          "data": {
            "text/plain": [
              "Private             0.697030\n",
              "Self-emp-not-inc    0.078038\n",
              "Local-gov           0.064279\n",
              "?                   0.056386\n",
              "State-gov           0.039864\n",
              "Self-emp-inc        0.034274\n",
              "Federal-gov         0.029483\n",
              "Without-pay         0.000430\n",
              "Never-worked        0.000215\n",
              "Name: empregador, dtype: float64"
            ]
          },
          "metadata": {},
          "execution_count": 102
        }
      ],
      "source": [
        "(dados['empregador'].value_counts()/n).sort_values(ascending=False) #.plot(kind = 'barh', color='r', figsize=(8,6), title=\"Percentual do tipo de empregador\");"
      ]
    },
    {
      "cell_type": "code",
      "execution_count": 23,
      "metadata": {
        "colab": {
          "base_uri": "https://localhost:8080/",
          "height": 390
        },
        "id": "GorgZHYx4rmj",
        "outputId": "f5b65018-f295-4281-ddab-0e1713fd8ef8"
      },
      "outputs": [
        {
          "output_type": "display_data",
          "data": {
            "text/plain": [
              "<Figure size 576x432 with 1 Axes>"
            ],
            "image/png": "[encoded data removed]"
          },
          "metadata": {
            "needs_background": "light"
          }
        }
      ],
      "source": [
        "# Verificando a contagem da coluna emprego\n",
        "\n",
        "(dados['empregador'].value_counts()/n).sort_values() .plot(kind = 'barh', color='r',xlabel='Setor' , ylabel= 'Percentual'  ,figsize=(8,6), title=\"Percentual do tipo de empregador\");\n"
      ]
    },
    {
      "cell_type": "markdown",
      "metadata": {
        "id": "bjf11xDBIvdu"
      },
      "source": [
        "- Quanto ao tipo de emprego, 69% é do setor privado, isso significa que a maioria do clientes pode variar a  renda e a estabilidade no emprego, o qual pode aumentar as taxas de juros do crédito devido ao risco ao crédito"
      ]
    },
    {
      "cell_type": "code",
      "execution_count": 103,
      "metadata": {
        "colab": {
          "base_uri": "https://localhost:8080/"
        },
        "id": "B0KBaKoHIUeE",
        "outputId": "1a96fb44-9576-4d1e-ee2d-0005b38e8872"
      },
      "outputs": [
        {
          "output_type": "execute_result",
          "data": {
            "text/plain": [
              "HS-grad         0.322502\n",
              "Some-college    0.223918\n",
              "Bachelors       0.164461\n",
              "Masters         0.052916\n",
              "Assoc-voc       0.042443\n",
              "11th            0.036086\n",
              "Assoc-acdm      0.032769\n",
              "10th            0.028654\n",
              "7th-8th         0.019840\n",
              "Prof-school     0.017690\n",
              "9th             0.015786\n",
              "12th            0.013298\n",
              "Doctorate       0.012684\n",
              "5th-6th         0.010227\n",
              "1st-4th         0.005160\n",
              "Preschool       0.001566\n",
              "Name: education, dtype: float64"
            ]
          },
          "metadata": {},
          "execution_count": 103
        }
      ],
      "source": [
        "dados['education'].value_counts()/n"
      ]
    },
    {
      "cell_type": "markdown",
      "metadata": {
        "id": "nOFZtEINKF6K"
      },
      "source": [
        "Quanto à educação, 32% dos clientes não possui nenhuma graduação, 22% em algum colégio e 16% bacharelado,  e mais de 25% dos creditos não aprovados refere-se a quem não tem graduação."
      ]
    },
    {
      "cell_type": "code",
      "execution_count": 104,
      "metadata": {
        "colab": {
          "base_uri": "https://localhost:8080/",
          "height": 393
        },
        "id": "c2JrIxFCBi_I",
        "outputId": "b03aa58e-505c-4e64-b4ab-f37de15678b4"
      },
      "outputs": [
        {
          "output_type": "display_data",
          "data": {
            "text/plain": [
              "<Figure size 576x432 with 1 Axes>"
            ],
            "image/png": "[encoded data removed]"
          },
          "metadata": {}
        }
      ],
      "source": [
        "(dados.groupby('aprovacao_credito')['education'].value_counts().sort_values(ascending=True)/n).plot(kind = 'barh', xlabel='Aprovação de crédito' ,color='r', figsize=(8,6), title=\"Aprovação de crédito por estado civil\");\n"
      ]
    },
    {
      "cell_type": "code",
      "execution_count": 26,
      "metadata": {
        "colab": {
          "base_uri": "https://localhost:8080/"
        },
        "id": "fdBOeZ7CLrxg",
        "outputId": "1a3554cb-b447-4228-acfe-e1c08fc35c86"
      },
      "outputs": [
        {
          "output_type": "execute_result",
          "data": {
            "text/plain": [
              "Male      21790\n",
              "Female    10771\n",
              "Name: sex, dtype: int64"
            ]
          },
          "metadata": {},
          "execution_count": 26
        }
      ],
      "source": [
        "# verificando a quantidade por sexo\n",
        "dados['sex'].value_counts()\n"
      ]
    },
    {
      "cell_type": "code",
      "execution_count": 105,
      "metadata": {
        "colab": {
          "base_uri": "https://localhost:8080/",
          "height": 393
        },
        "id": "C2O0LvrKOXLo",
        "outputId": "742c2b4e-0d43-4e9d-a2ec-3e7c6822904b"
      },
      "outputs": [
        {
          "output_type": "display_data",
          "data": {
            "text/plain": [
              "<Figure size 576x432 with 1 Axes>"
            ],
            "image/png": "[encoded data removed]"
          },
          "metadata": {}
        }
      ],
      "source": [
        "(dados.groupby('aprovacao_credito')['sex'].value_counts()/n).sort_values().plot(kind = 'barh', xlabel='Aprovação de crédito' , ylabel= 'Percentual' ,color=['r','b','c','y']   , figsize=(8,6), title=\"Percentual de aprovação de crédito por sexo\"); "
      ]
    },
    {
      "cell_type": "markdown",
      "metadata": {
        "id": "hlbCB6q6QC4l"
      },
      "source": [
        "- Os dados comprovam que o sexo masculino representa o dobro do sexo feminino.\n",
        "- Mais de 40% dos créditos não aprovados são masculino, em contrapartida aos 20% aprovados.\n",
        "- Os créditos não aprovados para o sexo feminino, representa quase 30%, contra aproximadamente mais de 3% aprovados.\n",
        "- Isso siginifica que existe uma grande diferença de linha de crédito entre os sexos, e que se precisa trabalhar a carteira de crédito para o público feminino.\n",
        "- É preciso reduzir o número de crédito não aprovados para o sexo masculino"
      ]
    },
    {
      "cell_type": "markdown",
      "metadata": {
        "id": "0AW6SGeFbHhI"
      },
      "source": [
        "## EDA PARA MODELAGEM"
      ]
    },
    {
      "cell_type": "code",
      "execution_count": 28,
      "metadata": {
        "colab": {
          "base_uri": "https://localhost:8080/",
          "height": 743
        },
        "id": "MsEyjgeOawM8",
        "outputId": "2f1845dd-b3aa-4849-a073-4d6b9a5de8e4"
      },
      "outputs": [
        {
          "output_type": "execute_result",
          "data": {
            "text/plain": [
              "<seaborn.axisgrid.PairGrid at 0x7f63f0563ed0>"
            ]
          },
          "metadata": {},
          "execution_count": 28
        },
        {
          "output_type": "display_data",
          "data": {
            "text/plain": [
              "<Figure size 720x720 with 20 Axes>"
            ],
            "image/png": "[encoded data removed]"
          },
          "metadata": {
            "needs_background": "light"
          }
        }
      ],
      "source": [
        "sns.pairplot(dados)"
      ]
    },
    {
      "cell_type": "markdown",
      "metadata": {
        "id": "-4qlcnbhxVze"
      },
      "source": [
        "- A medida que a idade aumenta, o endividamento aumentata também;\n",
        "- Os valores dos investimentos aumentam entre os mais velhos;\n",
        "- As menores rendas tem maiores endividamentos"
      ]
    },
    {
      "cell_type": "markdown",
      "metadata": {
        "id": "FcPCp-mKcTtb"
      },
      "source": [
        "###Variáveis Categóricas"
      ]
    },
    {
      "cell_type": "code",
      "execution_count": 29,
      "metadata": {
        "id": "sdkccfZdbLsO",
        "colab": {
          "base_uri": "https://localhost:8080/"
        },
        "outputId": "14558cf2-f1a9-44d3-b032-d8fc78b6797d"
      },
      "outputs": [
        {
          "output_type": "execute_result",
          "data": {
            "text/plain": [
              "['race',\n",
              " 'ocupacao',\n",
              " 'education',\n",
              " 'empregador',\n",
              " 'estado_civil',\n",
              " 'relacionamento',\n",
              " 'sex',\n",
              " 'nacionalidade']"
            ]
          },
          "metadata": {},
          "execution_count": 29
        }
      ],
      "source": [
        " # retornando as variaveis categóricas\n",
        " var_cat=['race', 'ocupacao','education','empregador','estado_civil','relacionamento','sex','nacionalidade']\n",
        " var_cat"
      ]
    },
    {
      "cell_type": "markdown",
      "metadata": {
        "id": "YHjAYU0h6yrQ"
      },
      "source": [
        "### Variáveis Contínuas"
      ]
    },
    {
      "cell_type": "code",
      "execution_count": 30,
      "metadata": {
        "colab": {
          "base_uri": "https://localhost:8080/"
        },
        "id": "q1tMvyNo3vm1",
        "outputId": "5717d0c8-f928-42b4-994c-1c61acc7b3fd"
      },
      "outputs": [
        {
          "output_type": "execute_result",
          "data": {
            "text/plain": [
              "['idade', 'renda', 'investimentos', 'endividamento']"
            ]
          },
          "metadata": {},
          "execution_count": 30
        }
      ],
      "source": [
        " #retornando as variavies continuas\n",
        " var_cont=[ 'idade','renda','investimentos','endividamento']\n",
        " var_cont"
      ]
    },
    {
      "cell_type": "code",
      "execution_count": 31,
      "metadata": {
        "colab": {
          "base_uri": "https://localhost:8080/",
          "height": 608
        },
        "id": "4_3u7ZZ_SJ86",
        "outputId": "4b26aa18-bca7-4836-f7b8-892cfc061a47"
      },
      "outputs": [
        {
          "output_type": "display_data",
          "data": {
            "text/plain": [
              "<Figure size 864x720 with 4 Axes>"
            ],
            "image/png": "[encoded data removed]"
          },
          "metadata": {
            "needs_background": "light"
          }
        }
      ],
      "source": [
        "# histigrama das variaveis continuas\n",
        "dados.hist(figsize=(12,10));"
      ]
    },
    {
      "cell_type": "markdown",
      "metadata": {
        "id": "aBs_Yn4Rwb91"
      },
      "source": [
        "- Existem muitos clientes sem investimentos e sem endividamentos, isso significa que pode ser a de muitas contas abertas mas sem movimentação."
      ]
    },
    {
      "cell_type": "markdown",
      "metadata": {
        "id": "2xXZkrdpc0K7"
      },
      "source": [
        "### Visualização das variáveis contínuas em relação à variável target"
      ]
    },
    {
      "cell_type": "code",
      "execution_count": 32,
      "metadata": {
        "colab": {
          "base_uri": "https://localhost:8080/",
          "height": 403
        },
        "id": "6kdPMQe8TWzU",
        "outputId": "3906446c-a931-46ee-aa0d-2e585ede1153"
      },
      "outputs": [
        {
          "output_type": "display_data",
          "data": {
            "text/plain": [
              "<Figure size 1584x432 with 4 Axes>"
            ],
            "image/png": "[encoded data removed]"
          },
          "metadata": {
            "needs_background": "light"
          }
        }
      ],
      "source": [
        "# Visualizando as variáveis continuas em relação à aprovação de créditos\n",
        "import matplotlib.pyplot as plt \n",
        "fig, ax = plt.subplots(1, 4, figsize=(22, 6));\n",
        "dados[dados.aprovacao_credito == \"não aprovado\"][var_cont].hist( bins=30, color=\"blue\", alpha=0.5, ax=ax);\n",
        "dados[dados.aprovacao_credito == \"APROVADO\"][var_cont].hist( bins=30, color=\"red\", alpha=0.5, ax=ax);"
      ]
    },
    {
      "cell_type": "markdown",
      "metadata": {
        "id": "8GUZKR6da3JJ"
      },
      "source": [
        "- Aqui percebe-se que aproximadamente abaixo de 40 anos existe uma grande proporção de créditos não aprovados;\n",
        "- Existem margem para créditos nas menores rendas, e muitos clientes sem investimentos e endividamentos.\n"
      ]
    },
    {
      "cell_type": "code",
      "execution_count": 33,
      "metadata": {
        "colab": {
          "base_uri": "https://localhost:8080/",
          "height": 326
        },
        "id": "FUi6q6zizM5_",
        "outputId": "b177917e-cf40-4379-cea5-e761d070370f"
      },
      "outputs": [
        {
          "output_type": "display_data",
          "data": {
            "text/plain": [
              "<Figure size 720x360 with 2 Axes>"
            ],
            "image/png": "[encoded data removed]"
          },
          "metadata": {}
        }
      ],
      "source": [
        " # definindo mapa de correlação\n",
        "a=dados.corr( )\n",
        "sns.set(rc = {'figure.figsize':(10,5)})\n",
        "sns.heatmap(a, annot=True, cmap=\"YlGnBu\");"
      ]
    },
    {
      "cell_type": "markdown",
      "metadata": {
        "id": "HLO45taC1BJP"
      },
      "source": [
        "- No gráfico das correlações nenhuma variável com relação alta, apenas renda e idade inversamente proporcionais."
      ]
    },
    {
      "cell_type": "code",
      "execution_count": 34,
      "metadata": {
        "colab": {
          "base_uri": "https://localhost:8080/",
          "height": 661
        },
        "id": "AQUubjkO09YT",
        "outputId": "af63d135-33ab-4dca-c3b7-6405e1ea3ee9"
      },
      "outputs": [
        {
          "output_type": "stream",
          "name": "stderr",
          "text": [
            "/usr/local/lib/python3.7/dist-packages/seaborn/_decorators.py:43: FutureWarning: Pass the following variable as a keyword arg: x. From version 0.12, the only valid positional argument will be `data`, and passing other arguments without an explicit keyword will result in an error or misinterpretation.\n",
            "  FutureWarning\n",
            "/usr/local/lib/python3.7/dist-packages/seaborn/_decorators.py:43: FutureWarning: Pass the following variable as a keyword arg: x. From version 0.12, the only valid positional argument will be `data`, and passing other arguments without an explicit keyword will result in an error or misinterpretation.\n",
            "  FutureWarning\n",
            "/usr/local/lib/python3.7/dist-packages/seaborn/_decorators.py:43: FutureWarning: Pass the following variable as a keyword arg: x. From version 0.12, the only valid positional argument will be `data`, and passing other arguments without an explicit keyword will result in an error or misinterpretation.\n",
            "  FutureWarning\n",
            "/usr/local/lib/python3.7/dist-packages/seaborn/_decorators.py:43: FutureWarning: Pass the following variable as a keyword arg: x. From version 0.12, the only valid positional argument will be `data`, and passing other arguments without an explicit keyword will result in an error or misinterpretation.\n",
            "  FutureWarning\n"
          ]
        },
        {
          "output_type": "display_data",
          "data": {
            "text/plain": [
              "<Figure size 576x576 with 4 Axes>"
            ],
            "image/png": "[encoded data removed]"
          },
          "metadata": {}
        }
      ],
      "source": [
        "fig, axis = plt.subplots(4,figsize=(8,8)) # identificando outiliers\n",
        "a= dados[[  'idade','renda','investimentos','endividamento' ]]\n",
        "for i,column in enumerate(a):\n",
        "     sns.boxplot(dados[column],ax=axis[i])"
      ]
    },
    {
      "cell_type": "markdown",
      "metadata": {
        "id": "DpkYByQ6Ltsf"
      },
      "source": [
        "- Resolvi manter os autlier pois sua eliminação interfere na variável resposta"
      ]
    },
    {
      "cell_type": "markdown",
      "metadata": {
        "id": "7klptes95NWA"
      },
      "source": [
        "# PRÉ - PROCESSAMENTO"
      ]
    },
    {
      "cell_type": "markdown",
      "metadata": {
        "id": "Wi4zBfZp5nPA"
      },
      "source": [
        "Separação das variáveis dependentes e independentes"
      ]
    },
    {
      "cell_type": "code",
      "execution_count": 35,
      "metadata": {
        "id": "UdwRpN735z3c"
      },
      "outputs": [],
      "source": [
        "X=dados.drop('aprovacao_credito', axis=1)\n",
        "y=dados['aprovacao_credito']\n",
        "\n"
      ]
    },
    {
      "cell_type": "code",
      "execution_count": 109,
      "metadata": {
        "colab": {
          "base_uri": "https://localhost:8080/",
          "height": 423
        },
        "id": "gS4Ri5rQ7d0E",
        "outputId": "97ea5576-d33a-4999-88a1-67e70f3a564d"
      },
      "outputs": [
        {
          "output_type": "execute_result",
          "data": {
            "text/plain": [
              "       idade        empregador   renda   education        estado_civil  \\\n",
              "0         39         State-gov   77516   Bachelors       Never-married   \n",
              "1         50  Self-emp-not-inc   83311   Bachelors  Married-civ-spouse   \n",
              "2         38           Private  215646     HS-grad            Divorced   \n",
              "3         53           Private  234721        11th  Married-civ-spouse   \n",
              "4         28           Private  338409   Bachelors  Married-civ-spouse   \n",
              "...      ...               ...     ...         ...                 ...   \n",
              "32556     27           Private  257302  Assoc-acdm  Married-civ-spouse   \n",
              "32557     40           Private  154374     HS-grad  Married-civ-spouse   \n",
              "32558     58           Private  151910     HS-grad             Widowed   \n",
              "32559     22           Private  201490     HS-grad       Never-married   \n",
              "32560     52      Self-emp-inc  287927     HS-grad  Married-civ-spouse   \n",
              "\n",
              "                ocupacao relacionamento   race  sex  investimentos  \\\n",
              "0           Adm-clerical  Not-in-family  White    0           2174   \n",
              "1        Exec-managerial        Husband  White    0              0   \n",
              "2      Handlers-cleaners  Not-in-family  White    0              0   \n",
              "3      Handlers-cleaners        Husband  Black    0              0   \n",
              "4         Prof-specialty           Wife  Black    1              0   \n",
              "...                  ...            ...    ...  ...            ...   \n",
              "32556       Tech-support           Wife  White    1              0   \n",
              "32557  Machine-op-inspct        Husband  White    0              0   \n",
              "32558       Adm-clerical      Unmarried  White    1              0   \n",
              "32559       Adm-clerical      Own-child  White    0              0   \n",
              "32560    Exec-managerial           Wife  White    1          15024   \n",
              "\n",
              "       endividamento  nacionalidade  aprovacao_credito  \n",
              "0                  0  United-States                  0  \n",
              "1                  0  United-States                  0  \n",
              "2                  0  United-States                  0  \n",
              "3                  0  United-States                  0  \n",
              "4                  0           Cuba                  0  \n",
              "...              ...            ...                ...  \n",
              "32556              0  United-States                  0  \n",
              "32557              0  United-States                  1  \n",
              "32558              0  United-States                  0  \n",
              "32559              0  United-States                  0  \n",
              "32560              0  United-States                  1  \n",
              "\n",
              "[32561 rows x 13 columns]"
            ],
            "text/html": [
              "\n",
              "  <div id=\"df-155937f4-547f-4fea-ae35-40d49d01eed5\">\n",
              "    <div class=\"colab-df-container\">\n",
              "      <div>\n",
              "<style scoped>\n",
              "    .dataframe tbody tr th:only-of-type {\n",
              "        vertical-align: middle;\n",
              "    }\n",
              "\n",
              "    .dataframe tbody tr th {\n",
              "        vertical-align: top;\n",
              "    }\n",
              "\n",
              "    .dataframe thead th {\n",
              "        text-align: right;\n",
              "    }\n",
              "</style>\n",
              "<table border=\"1\" class=\"dataframe\">\n",
              "  <thead>\n",
              "    <tr style=\"text-align: right;\">\n",
              "      <th></th>\n",
              "      <th>idade</th>\n",
              "      <th>empregador</th>\n",
              "      <th>renda</th>\n",
              "      <th>education</th>\n",
              "      <th>estado_civil</th>\n",
              "      <th>ocupacao</th>\n",
              "      <th>relacionamento</th>\n",
              "      <th>race</th>\n",
              "      <th>sex</th>\n",
              "      <th>investimentos</th>\n",
              "      <th>endividamento</th>\n",
              "      <th>nacionalidade</th>\n",
              "      <th>aprovacao_credito</th>\n",
              "    </tr>\n",
              "  </thead>\n",
              "  <tbody>\n",
              "    <tr>\n",
              "      <th>0</th>\n",
              "      <td>39</td>\n",
              "      <td>State-gov</td>\n",
              "      <td>77516</td>\n",
              "      <td>Bachelors</td>\n",
              "      <td>Never-married</td>\n",
              "      <td>Adm-clerical</td>\n",
              "      <td>Not-in-family</td>\n",
              "      <td>White</td>\n",
              "      <td>0</td>\n",
              "      <td>2174</td>\n",
              "      <td>0</td>\n",
              "      <td>United-States</td>\n",
              "      <td>0</td>\n",
              "    </tr>\n",
              "    <tr>\n",
              "      <th>1</th>\n",
              "      <td>50</td>\n",
              "      <td>Self-emp-not-inc</td>\n",
              "      <td>83311</td>\n",
              "      <td>Bachelors</td>\n",
              "      <td>Married-civ-spouse</td>\n",
              "      <td>Exec-managerial</td>\n",
              "      <td>Husband</td>\n",
              "      <td>White</td>\n",
              "      <td>0</td>\n",
              "      <td>0</td>\n",
              "      <td>0</td>\n",
              "      <td>United-States</td>\n",
              "      <td>0</td>\n",
              "    </tr>\n",
              "    <tr>\n",
              "      <th>2</th>\n",
              "      <td>38</td>\n",
              "      <td>Private</td>\n",
              "      <td>215646</td>\n",
              "      <td>HS-grad</td>\n",
              "      <td>Divorced</td>\n",
              "      <td>Handlers-cleaners</td>\n",
              "      <td>Not-in-family</td>\n",
              "      <td>White</td>\n",
              "      <td>0</td>\n",
              "      <td>0</td>\n",
              "      <td>0</td>\n",
              "      <td>United-States</td>\n",
              "      <td>0</td>\n",
              "    </tr>\n",
              "    <tr>\n",
              "      <th>3</th>\n",
              "      <td>53</td>\n",
              "      <td>Private</td>\n",
              "      <td>234721</td>\n",
              "      <td>11th</td>\n",
              "      <td>Married-civ-spouse</td>\n",
              "      <td>Handlers-cleaners</td>\n",
              "      <td>Husband</td>\n",
              "      <td>Black</td>\n",
              "      <td>0</td>\n",
              "      <td>0</td>\n",
              "      <td>0</td>\n",
              "      <td>United-States</td>\n",
              "      <td>0</td>\n",
              "    </tr>\n",
              "    <tr>\n",
              "      <th>4</th>\n",
              "      <td>28</td>\n",
              "      <td>Private</td>\n",
              "      <td>338409</td>\n",
              "      <td>Bachelors</td>\n",
              "      <td>Married-civ-spouse</td>\n",
              "      <td>Prof-specialty</td>\n",
              "      <td>Wife</td>\n",
              "      <td>Black</td>\n",
              "      <td>1</td>\n",
              "      <td>0</td>\n",
              "      <td>0</td>\n",
              "      <td>Cuba</td>\n",
              "      <td>0</td>\n",
              "    </tr>\n",
              "    <tr>\n",
              "      <th>...</th>\n",
              "      <td>...</td>\n",
              "      <td>...</td>\n",
              "      <td>...</td>\n",
              "      <td>...</td>\n",
              "      <td>...</td>\n",
              "      <td>...</td>\n",
              "      <td>...</td>\n",
              "      <td>...</td>\n",
              "      <td>...</td>\n",
              "      <td>...</td>\n",
              "      <td>...</td>\n",
              "      <td>...</td>\n",
              "      <td>...</td>\n",
              "    </tr>\n",
              "    <tr>\n",
              "      <th>32556</th>\n",
              "      <td>27</td>\n",
              "      <td>Private</td>\n",
              "      <td>257302</td>\n",
              "      <td>Assoc-acdm</td>\n",
              "      <td>Married-civ-spouse</td>\n",
              "      <td>Tech-support</td>\n",
              "      <td>Wife</td>\n",
              "      <td>White</td>\n",
              "      <td>1</td>\n",
              "      <td>0</td>\n",
              "      <td>0</td>\n",
              "      <td>United-States</td>\n",
              "      <td>0</td>\n",
              "    </tr>\n",
              "    <tr>\n",
              "      <th>32557</th>\n",
              "      <td>40</td>\n",
              "      <td>Private</td>\n",
              "      <td>154374</td>\n",
              "      <td>HS-grad</td>\n",
              "      <td>Married-civ-spouse</td>\n",
              "      <td>Machine-op-inspct</td>\n",
              "      <td>Husband</td>\n",
              "      <td>White</td>\n",
              "      <td>0</td>\n",
              "      <td>0</td>\n",
              "      <td>0</td>\n",
              "      <td>United-States</td>\n",
              "      <td>1</td>\n",
              "    </tr>\n",
              "    <tr>\n",
              "      <th>32558</th>\n",
              "      <td>58</td>\n",
              "      <td>Private</td>\n",
              "      <td>151910</td>\n",
              "      <td>HS-grad</td>\n",
              "      <td>Widowed</td>\n",
              "      <td>Adm-clerical</td>\n",
              "      <td>Unmarried</td>\n",
              "      <td>White</td>\n",
              "      <td>1</td>\n",
              "      <td>0</td>\n",
              "      <td>0</td>\n",
              "      <td>United-States</td>\n",
              "      <td>0</td>\n",
              "    </tr>\n",
              "    <tr>\n",
              "      <th>32559</th>\n",
              "      <td>22</td>\n",
              "      <td>Private</td>\n",
              "      <td>201490</td>\n",
              "      <td>HS-grad</td>\n",
              "      <td>Never-married</td>\n",
              "      <td>Adm-clerical</td>\n",
              "      <td>Own-child</td>\n",
              "      <td>White</td>\n",
              "      <td>0</td>\n",
              "      <td>0</td>\n",
              "      <td>0</td>\n",
              "      <td>United-States</td>\n",
              "      <td>0</td>\n",
              "    </tr>\n",
              "    <tr>\n",
              "      <th>32560</th>\n",
              "      <td>52</td>\n",
              "      <td>Self-emp-inc</td>\n",
              "      <td>287927</td>\n",
              "      <td>HS-grad</td>\n",
              "      <td>Married-civ-spouse</td>\n",
              "      <td>Exec-managerial</td>\n",
              "      <td>Wife</td>\n",
              "      <td>White</td>\n",
              "      <td>1</td>\n",
              "      <td>15024</td>\n",
              "      <td>0</td>\n",
              "      <td>United-States</td>\n",
              "      <td>1</td>\n",
              "    </tr>\n",
              "  </tbody>\n",
              "</table>\n",
              "<p>32561 rows × 13 columns</p>\n",
              "</div>\n",
              "      <button class=\"colab-df-convert\" onclick=\"convertToInteractive('df-155937f4-547f-4fea-ae35-40d49d01eed5')\"\n",
              "              title=\"Convert this dataframe to an interactive table.\"\n",
              "              style=\"display:none;\">\n",
              "        \n",
              "  <svg xmlns=\"http://www.w3.org/2000/svg\" height=\"24px\"viewBox=\"0 0 24 24\"\n",
              "       width=\"24px\">\n",
              "    <path d=\"M0 0h24v24H0V0z\" fill=\"none\"/>\n",
              "    <path d=\"M18.56 5.44l.94 2.06.94-2.06 2.06-.94-2.06-.94-.94-2.06-.94 2.06-2.06.94zm-11 1L8.5 8.5l.94-2.06 2.06-.94-2.06-.94L8.5 2.5l-.94 2.06-2.06.94zm10 10l.94 2.06.94-2.06 2.06-.94-2.06-.94-.94-2.06-.94 2.06-2.06.94z\"/><path d=\"M17.41 7.96l-1.37-1.37c-.4-.4-.92-.59-1.43-.59-.52 0-1.04.2-1.43.59L10.3 9.45l-7.72 7.72c-.78.78-.78 2.05 0 2.83L4 21.41c.39.39.9.59 1.41.59.51 0 1.02-.2 1.41-.59l7.78-7.78 2.81-2.81c.8-.78.8-2.07 0-2.86zM5.41 20L4 18.59l7.72-7.72 1.47 1.35L5.41 20z\"/>\n",
              "  </svg>\n",
              "      </button>\n",
              "      \n",
              "  <style>\n",
              "    .colab-df-container {\n",
              "      display:flex;\n",
              "      flex-wrap:wrap;\n",
              "      gap: 12px;\n",
              "    }\n",
              "\n",
              "    .colab-df-convert {\n",
              "      background-color: #E8F0FE;\n",
              "      border: none;\n",
              "      border-radius: 50%;\n",
              "      cursor: pointer;\n",
              "      display: none;\n",
              "      fill: #1967D2;\n",
              "      height: 32px;\n",
              "      padding: 0 0 0 0;\n",
              "      width: 32px;\n",
              "    }\n",
              "\n",
              "    .colab-df-convert:hover {\n",
              "      background-color: #E2EBFA;\n",
              "      box-shadow: 0px 1px 2px rgba(60, 64, 67, 0.3), 0px 1px 3px 1px rgba(60, 64, 67, 0.15);\n",
              "      fill: #174EA6;\n",
              "    }\n",
              "\n",
              "    [theme=dark] .colab-df-convert {\n",
              "      background-color: #3B4455;\n",
              "      fill: #D2E3FC;\n",
              "    }\n",
              "\n",
              "    [theme=dark] .colab-df-convert:hover {\n",
              "      background-color: #434B5C;\n",
              "      box-shadow: 0px 1px 3px 1px rgba(0, 0, 0, 0.15);\n",
              "      filter: drop-shadow(0px 1px 2px rgba(0, 0, 0, 0.3));\n",
              "      fill: #FFFFFF;\n",
              "    }\n",
              "  </style>\n",
              "\n",
              "      <script>\n",
              "        const buttonEl =\n",
              "          document.querySelector('#df-155937f4-547f-4fea-ae35-40d49d01eed5 button.colab-df-convert');\n",
              "        buttonEl.style.display =\n",
              "          google.colab.kernel.accessAllowed ? 'block' : 'none';\n",
              "\n",
              "        async function convertToInteractive(key) {\n",
              "          const element = document.querySelector('#df-155937f4-547f-4fea-ae35-40d49d01eed5');\n",
              "          const dataTable =\n",
              "            await google.colab.kernel.invokeFunction('convertToInteractive',\n",
              "                                                     [key], {});\n",
              "          if (!dataTable) return;\n",
              "\n",
              "          const docLinkHtml = 'Like what you see? Visit the ' +\n",
              "            '<a target=\"_blank\" href=https://colab.research.google.com/notebooks/data_table.ipynb>data table notebook</a>'\n",
              "            + ' to learn more about interactive tables.';\n",
              "          element.innerHTML = '';\n",
              "          dataTable['output_type'] = 'display_data';\n",
              "          await google.colab.output.renderOutput(dataTable, element);\n",
              "          const docLink = document.createElement('div');\n",
              "          docLink.innerHTML = docLinkHtml;\n",
              "          element.appendChild(docLink);\n",
              "        }\n",
              "      </script>\n",
              "    </div>\n",
              "  </div>\n",
              "  "
            ]
          },
          "metadata": {},
          "execution_count": 109
        }
      ],
      "source": [
        " #TRANSFORMANDO A TARGET EM VALOR NÚMERICO\n",
        " dados['aprovacao_credito']=dados['aprovacao_credito'].replace({'não aprovado':0, 'APROVADO':1})\n",
        " dados['sex']=dados['sex'].replace({'Male':0, 'Female':1})\n",
        " dados\n",
        "\n"
      ]
    },
    {
      "cell_type": "code",
      "execution_count": 110,
      "metadata": {
        "colab": {
          "base_uri": "https://localhost:8080/"
        },
        "id": "8iVz63ne4znR",
        "outputId": "ad1930e9-acd1-45db-892e-990a32d0a692"
      },
      "outputs": [
        {
          "output_type": "stream",
          "name": "stdout",
          "text": [
            "Counter({'não aprovado': 24720, 'APROVADO': 24720})\n"
          ]
        }
      ],
      "source": [
        "#tratando as classes desbalanceadas\n",
        "from imblearn.over_sampling import RandomOverSampler\n",
        "from collections import Counter\n",
        "oversample = RandomOverSampler(sampling_strategy='minority')\n",
        "X_over, y_over = oversample.fit_resample(X, y)\n",
        "print(Counter(y_over))\n"
      ]
    },
    {
      "cell_type": "code",
      "execution_count": 111,
      "metadata": {
        "id": "7_0h8iba-SCr"
      },
      "outputs": [],
      "source": [
        "# Tratando as variáveis categóricas em números\n",
        "df= pd.get_dummies(X_over) \n",
        "df2=pd.get_dummies(y_over,drop_first = True) \n",
        "\n"
      ]
    },
    {
      "cell_type": "code",
      "execution_count": 112,
      "metadata": {
        "id": "kE1NrFJ2jASj"
      },
      "outputs": [],
      "source": [
        "# padronizando a variavel idade\n",
        "media = np.mean(df['idade'])\n",
        "desvio = np.std(df['idade'])\n",
        "\n",
        "df['idade'] = (df['idade'] - media)/desvio\n"
      ]
    },
    {
      "cell_type": "code",
      "execution_count": 113,
      "metadata": {
        "colab": {
          "base_uri": "https://localhost:8080/",
          "height": 322
        },
        "id": "ERYBj0qHlate",
        "outputId": "1196ae0e-3103-4921-e2db-567472ebec64"
      },
      "outputs": [
        {
          "output_type": "display_data",
          "data": {
            "text/plain": [
              "<Figure size 720x360 with 1 Axes>"
            ],
            "image/png": "[encoded data removed]"
          },
          "metadata": {}
        }
      ],
      "source": [
        "# Padronizando a variável renda\n",
        "media = np.mean(df['renda'])\n",
        "desvio = np.std(df['renda'])\n",
        "\n",
        "a=df['renda'] = (df['renda'] - media)/desvio\n",
        "\n",
        "a.plot(kind = 'hist', edgecolor = 'white');"
      ]
    },
    {
      "cell_type": "code",
      "execution_count": 114,
      "metadata": {
        "colab": {
          "base_uri": "https://localhost:8080/",
          "height": 322
        },
        "id": "FNMPawiSmCIx",
        "outputId": "df5f7d95-2f79-4d34-fa86-e6e9526859c7"
      },
      "outputs": [
        {
          "output_type": "display_data",
          "data": {
            "text/plain": [
              "<Figure size 720x360 with 1 Axes>"
            ],
            "image/png": "[encoded data removed]"
          },
          "metadata": {}
        }
      ],
      "source": [
        "# Padronizando a variável investimentos\n",
        "media = np.mean(df['investimentos'])\n",
        "desvio = np.std(df['investimentos'])\n",
        "\n",
        "a=df['investimentos'] = (df['investimentos'] - media)/desvio\n",
        "\n",
        "a.plot(kind = 'hist', edgecolor = 'white');"
      ]
    },
    {
      "cell_type": "code",
      "execution_count": 115,
      "metadata": {
        "colab": {
          "base_uri": "https://localhost:8080/",
          "height": 322
        },
        "id": "mNrExz5GqgPl",
        "outputId": "ebe8a2cb-81b9-4a3c-de70-1cceb183183b"
      },
      "outputs": [
        {
          "output_type": "display_data",
          "data": {
            "text/plain": [
              "<Figure size 720x360 with 1 Axes>"
            ],
            "image/png": "[encoded data removed]"
          },
          "metadata": {}
        }
      ],
      "source": [
        "# Padronizando a variável investimentos\n",
        "media = np.mean(df['endividamento'])\n",
        "desvio = np.std(df['endividamento'])\n",
        "\n",
        "a=df['endividamento'] = (df['endividamento'] - media)/desvio\n",
        "\n",
        "a.plot(kind = 'hist', edgecolor = 'white');"
      ]
    },
    {
      "cell_type": "code",
      "execution_count": 116,
      "metadata": {
        "colab": {
          "base_uri": "https://localhost:8080/",
          "height": 505
        },
        "id": "BstY1rjCgd7Z",
        "outputId": "e97001fc-b577-4254-d95a-69a30e82f939"
      },
      "outputs": [
        {
          "output_type": "execute_result",
          "data": {
            "text/plain": [
              "          idade     renda  investimentos  endividamento  empregador_?  \\\n",
              "0     -0.117167 -1.071366       0.006847      -0.257039             0   \n",
              "1      0.731790 -1.015712      -0.198783      -0.257039             0   \n",
              "2     -0.194345  0.255217      -0.198783      -0.257039             0   \n",
              "3      0.963324  0.438411      -0.198783      -0.257039             0   \n",
              "4     -0.966124  1.434218      -0.198783      -0.257039             0   \n",
              "...         ...       ...            ...            ...           ...   \n",
              "49435 -0.580235  0.449225      -0.198783      -0.257039             0   \n",
              "49436 -0.580235  0.403088      -0.198783      -0.257039             0   \n",
              "49437  3.047127 -1.537115       0.804301      -0.257039             1   \n",
              "49438 -0.271523 -0.347301       0.528394      -0.257039             0   \n",
              "49439  0.114367 -1.152970      -0.198783      -0.257039             0   \n",
              "\n",
              "       empregador_Federal-gov  empregador_Local-gov  empregador_Never-worked  \\\n",
              "0                           0                     0                        0   \n",
              "1                           0                     0                        0   \n",
              "2                           0                     0                        0   \n",
              "3                           0                     0                        0   \n",
              "4                           0                     0                        0   \n",
              "...                       ...                   ...                      ...   \n",
              "49435                       0                     0                        0   \n",
              "49436                       0                     0                        0   \n",
              "49437                       0                     0                        0   \n",
              "49438                       0                     0                        0   \n",
              "49439                       0                     0                        0   \n",
              "\n",
              "       empregador_Private  empregador_Self-emp-inc  ...  \\\n",
              "0                       0                        0  ...   \n",
              "1                       0                        0  ...   \n",
              "2                       1                        0  ...   \n",
              "3                       1                        0  ...   \n",
              "4                       1                        0  ...   \n",
              "...                   ...                      ...  ...   \n",
              "49435                   1                        0  ...   \n",
              "49436                   1                        0  ...   \n",
              "49437                   0                        0  ...   \n",
              "49438                   1                        0  ...   \n",
              "49439                   1                        0  ...   \n",
              "\n",
              "       nacionalidade_Portugal  nacionalidade_Puerto-Rico  \\\n",
              "0                           0                          0   \n",
              "1                           0                          0   \n",
              "2                           0                          0   \n",
              "3                           0                          0   \n",
              "4                           0                          0   \n",
              "...                       ...                        ...   \n",
              "49435                       0                          0   \n",
              "49436                       0                          0   \n",
              "49437                       0                          0   \n",
              "49438                       0                          0   \n",
              "49439                       0                          0   \n",
              "\n",
              "       nacionalidade_Scotland  nacionalidade_South  nacionalidade_Taiwan  \\\n",
              "0                           0                    0                     0   \n",
              "1                           0                    0                     0   \n",
              "2                           0                    0                     0   \n",
              "3                           0                    0                     0   \n",
              "4                           0                    0                     0   \n",
              "...                       ...                  ...                   ...   \n",
              "49435                       0                    0                     0   \n",
              "49436                       0                    0                     0   \n",
              "49437                       0                    0                     0   \n",
              "49438                       0                    0                     0   \n",
              "49439                       0                    0                     0   \n",
              "\n",
              "       nacionalidade_Thailand  nacionalidade_Trinadad&Tobago  \\\n",
              "0                           0                              0   \n",
              "1                           0                              0   \n",
              "2                           0                              0   \n",
              "3                           0                              0   \n",
              "4                           0                              0   \n",
              "...                       ...                            ...   \n",
              "49435                       0                              0   \n",
              "49436                       0                              0   \n",
              "49437                       0                              0   \n",
              "49438                       0                              0   \n",
              "49439                       0                              0   \n",
              "\n",
              "       nacionalidade_United-States  nacionalidade_Vietnam  \\\n",
              "0                                1                      0   \n",
              "1                                1                      0   \n",
              "2                                1                      0   \n",
              "3                                1                      0   \n",
              "4                                0                      0   \n",
              "...                            ...                    ...   \n",
              "49435                            1                      0   \n",
              "49436                            1                      0   \n",
              "49437                            1                      0   \n",
              "49438                            1                      0   \n",
              "49439                            1                      0   \n",
              "\n",
              "       nacionalidade_Yugoslavia  \n",
              "0                             0  \n",
              "1                             0  \n",
              "2                             0  \n",
              "3                             0  \n",
              "4                             0  \n",
              "...                         ...  \n",
              "49435                         0  \n",
              "49436                         0  \n",
              "49437                         0  \n",
              "49438                         0  \n",
              "49439                         0  \n",
              "\n",
              "[49440 rows x 106 columns]"
            ],
            "text/html": [
              "\n",
              "  <div id=\"df-342615e5-15a9-4c6b-b1dd-039a6efe15de\">\n",
              "    <div class=\"colab-df-container\">\n",
              "      <div>\n",
              "<style scoped>\n",
              "    .dataframe tbody tr th:only-of-type {\n",
              "        vertical-align: middle;\n",
              "    }\n",
              "\n",
              "    .dataframe tbody tr th {\n",
              "        vertical-align: top;\n",
              "    }\n",
              "\n",
              "    .dataframe thead th {\n",
              "        text-align: right;\n",
              "    }\n",
              "</style>\n",
              "<table border=\"1\" class=\"dataframe\">\n",
              "  <thead>\n",
              "    <tr style=\"text-align: right;\">\n",
              "      <th></th>\n",
              "      <th>idade</th>\n",
              "      <th>renda</th>\n",
              "      <th>investimentos</th>\n",
              "      <th>endividamento</th>\n",
              "      <th>empregador_?</th>\n",
              "      <th>empregador_Federal-gov</th>\n",
              "      <th>empregador_Local-gov</th>\n",
              "      <th>empregador_Never-worked</th>\n",
              "      <th>empregador_Private</th>\n",
              "      <th>empregador_Self-emp-inc</th>\n",
              "      <th>...</th>\n",
              "      <th>nacionalidade_Portugal</th>\n",
              "      <th>nacionalidade_Puerto-Rico</th>\n",
              "      <th>nacionalidade_Scotland</th>\n",
              "      <th>nacionalidade_South</th>\n",
              "      <th>nacionalidade_Taiwan</th>\n",
              "      <th>nacionalidade_Thailand</th>\n",
              "      <th>nacionalidade_Trinadad&amp;Tobago</th>\n",
              "      <th>nacionalidade_United-States</th>\n",
              "      <th>nacionalidade_Vietnam</th>\n",
              "      <th>nacionalidade_Yugoslavia</th>\n",
              "    </tr>\n",
              "  </thead>\n",
              "  <tbody>\n",
              "    <tr>\n",
              "      <th>0</th>\n",
              "      <td>-0.117167</td>\n",
              "      <td>-1.071366</td>\n",
              "      <td>0.006847</td>\n",
              "      <td>-0.257039</td>\n",
              "      <td>0</td>\n",
              "      <td>0</td>\n",
              "      <td>0</td>\n",
              "      <td>0</td>\n",
              "      <td>0</td>\n",
              "      <td>0</td>\n",
              "      <td>...</td>\n",
              "      <td>0</td>\n",
              "      <td>0</td>\n",
              "      <td>0</td>\n",
              "      <td>0</td>\n",
              "      <td>0</td>\n",
              "      <td>0</td>\n",
              "      <td>0</td>\n",
              "      <td>1</td>\n",
              "      <td>0</td>\n",
              "      <td>0</td>\n",
              "    </tr>\n",
              "    <tr>\n",
              "      <th>1</th>\n",
              "      <td>0.731790</td>\n",
              "      <td>-1.015712</td>\n",
              "      <td>-0.198783</td>\n",
              "      <td>-0.257039</td>\n",
              "      <td>0</td>\n",
              "      <td>0</td>\n",
              "      <td>0</td>\n",
              "      <td>0</td>\n",
              "      <td>0</td>\n",
              "      <td>0</td>\n",
              "      <td>...</td>\n",
              "      <td>0</td>\n",
              "      <td>0</td>\n",
              "      <td>0</td>\n",
              "      <td>0</td>\n",
              "      <td>0</td>\n",
              "      <td>0</td>\n",
              "      <td>0</td>\n",
              "      <td>1</td>\n",
              "      <td>0</td>\n",
              "      <td>0</td>\n",
              "    </tr>\n",
              "    <tr>\n",
              "      <th>2</th>\n",
              "      <td>-0.194345</td>\n",
              "      <td>0.255217</td>\n",
              "      <td>-0.198783</td>\n",
              "      <td>-0.257039</td>\n",
              "      <td>0</td>\n",
              "      <td>0</td>\n",
              "      <td>0</td>\n",
              "      <td>0</td>\n",
              "      <td>1</td>\n",
              "      <td>0</td>\n",
              "      <td>...</td>\n",
              "      <td>0</td>\n",
              "      <td>0</td>\n",
              "      <td>0</td>\n",
              "      <td>0</td>\n",
              "      <td>0</td>\n",
              "      <td>0</td>\n",
              "      <td>0</td>\n",
              "      <td>1</td>\n",
              "      <td>0</td>\n",
              "      <td>0</td>\n",
              "    </tr>\n",
              "    <tr>\n",
              "      <th>3</th>\n",
              "      <td>0.963324</td>\n",
              "      <td>0.438411</td>\n",
              "      <td>-0.198783</td>\n",
              "      <td>-0.257039</td>\n",
              "      <td>0</td>\n",
              "      <td>0</td>\n",
              "      <td>0</td>\n",
              "      <td>0</td>\n",
              "      <td>1</td>\n",
              "      <td>0</td>\n",
              "      <td>...</td>\n",
              "      <td>0</td>\n",
              "      <td>0</td>\n",
              "      <td>0</td>\n",
              "      <td>0</td>\n",
              "      <td>0</td>\n",
              "      <td>0</td>\n",
              "      <td>0</td>\n",
              "      <td>1</td>\n",
              "      <td>0</td>\n",
              "      <td>0</td>\n",
              "    </tr>\n",
              "    <tr>\n",
              "      <th>4</th>\n",
              "      <td>-0.966124</td>\n",
              "      <td>1.434218</td>\n",
              "      <td>-0.198783</td>\n",
              "      <td>-0.257039</td>\n",
              "      <td>0</td>\n",
              "      <td>0</td>\n",
              "      <td>0</td>\n",
              "      <td>0</td>\n",
              "      <td>1</td>\n",
              "      <td>0</td>\n",
              "      <td>...</td>\n",
              "      <td>0</td>\n",
              "      <td>0</td>\n",
              "      <td>0</td>\n",
              "      <td>0</td>\n",
              "      <td>0</td>\n",
              "      <td>0</td>\n",
              "      <td>0</td>\n",
              "      <td>0</td>\n",
              "      <td>0</td>\n",
              "      <td>0</td>\n",
              "    </tr>\n",
              "    <tr>\n",
              "      <th>...</th>\n",
              "      <td>...</td>\n",
              "      <td>...</td>\n",
              "      <td>...</td>\n",
              "      <td>...</td>\n",
              "      <td>...</td>\n",
              "      <td>...</td>\n",
              "      <td>...</td>\n",
              "      <td>...</td>\n",
              "      <td>...</td>\n",
              "      <td>...</td>\n",
              "      <td>...</td>\n",
              "      <td>...</td>\n",
              "      <td>...</td>\n",
              "      <td>...</td>\n",
              "      <td>...</td>\n",
              "      <td>...</td>\n",
              "      <td>...</td>\n",
              "      <td>...</td>\n",
              "      <td>...</td>\n",
              "      <td>...</td>\n",
              "      <td>...</td>\n",
              "    </tr>\n",
              "    <tr>\n",
              "      <th>49435</th>\n",
              "      <td>-0.580235</td>\n",
              "      <td>0.449225</td>\n",
              "      <td>-0.198783</td>\n",
              "      <td>-0.257039</td>\n",
              "      <td>0</td>\n",
              "      <td>0</td>\n",
              "      <td>0</td>\n",
              "      <td>0</td>\n",
              "      <td>1</td>\n",
              "      <td>0</td>\n",
              "      <td>...</td>\n",
              "      <td>0</td>\n",
              "      <td>0</td>\n",
              "      <td>0</td>\n",
              "      <td>0</td>\n",
              "      <td>0</td>\n",
              "      <td>0</td>\n",
              "      <td>0</td>\n",
              "      <td>1</td>\n",
              "      <td>0</td>\n",
              "      <td>0</td>\n",
              "    </tr>\n",
              "    <tr>\n",
              "      <th>49436</th>\n",
              "      <td>-0.580235</td>\n",
              "      <td>0.403088</td>\n",
              "      <td>-0.198783</td>\n",
              "      <td>-0.257039</td>\n",
              "      <td>0</td>\n",
              "      <td>0</td>\n",
              "      <td>0</td>\n",
              "      <td>0</td>\n",
              "      <td>1</td>\n",
              "      <td>0</td>\n",
              "      <td>...</td>\n",
              "      <td>0</td>\n",
              "      <td>0</td>\n",
              "      <td>0</td>\n",
              "      <td>0</td>\n",
              "      <td>0</td>\n",
              "      <td>0</td>\n",
              "      <td>0</td>\n",
              "      <td>1</td>\n",
              "      <td>0</td>\n",
              "      <td>0</td>\n",
              "    </tr>\n",
              "    <tr>\n",
              "      <th>49437</th>\n",
              "      <td>3.047127</td>\n",
              "      <td>-1.537115</td>\n",
              "      <td>0.804301</td>\n",
              "      <td>-0.257039</td>\n",
              "      <td>1</td>\n",
              "      <td>0</td>\n",
              "      <td>0</td>\n",
              "      <td>0</td>\n",
              "      <td>0</td>\n",
              "      <td>0</td>\n",
              "      <td>...</td>\n",
              "      <td>0</td>\n",
              "      <td>0</td>\n",
              "      <td>0</td>\n",
              "      <td>0</td>\n",
              "      <td>0</td>\n",
              "      <td>0</td>\n",
              "      <td>0</td>\n",
              "      <td>1</td>\n",
              "      <td>0</td>\n",
              "      <td>0</td>\n",
              "    </tr>\n",
              "    <tr>\n",
              "      <th>49438</th>\n",
              "      <td>-0.271523</td>\n",
              "      <td>-0.347301</td>\n",
              "      <td>0.528394</td>\n",
              "      <td>-0.257039</td>\n",
              "      <td>0</td>\n",
              "      <td>0</td>\n",
              "      <td>0</td>\n",
              "      <td>0</td>\n",
              "      <td>1</td>\n",
              "      <td>0</td>\n",
              "      <td>...</td>\n",
              "      <td>0</td>\n",
              "      <td>0</td>\n",
              "      <td>0</td>\n",
              "      <td>0</td>\n",
              "      <td>0</td>\n",
              "      <td>0</td>\n",
              "      <td>0</td>\n",
              "      <td>1</td>\n",
              "      <td>0</td>\n",
              "      <td>0</td>\n",
              "    </tr>\n",
              "    <tr>\n",
              "      <th>49439</th>\n",
              "      <td>0.114367</td>\n",
              "      <td>-1.152970</td>\n",
              "      <td>-0.198783</td>\n",
              "      <td>-0.257039</td>\n",
              "      <td>0</td>\n",
              "      <td>0</td>\n",
              "      <td>0</td>\n",
              "      <td>0</td>\n",
              "      <td>1</td>\n",
              "      <td>0</td>\n",
              "      <td>...</td>\n",
              "      <td>0</td>\n",
              "      <td>0</td>\n",
              "      <td>0</td>\n",
              "      <td>0</td>\n",
              "      <td>0</td>\n",
              "      <td>0</td>\n",
              "      <td>0</td>\n",
              "      <td>1</td>\n",
              "      <td>0</td>\n",
              "      <td>0</td>\n",
              "    </tr>\n",
              "  </tbody>\n",
              "</table>\n",
              "<p>49440 rows × 106 columns</p>\n",
              "</div>\n",
              "      <button class=\"colab-df-convert\" onclick=\"convertToInteractive('df-342615e5-15a9-4c6b-b1dd-039a6efe15de')\"\n",
              "              title=\"Convert this dataframe to an interactive table.\"\n",
              "              style=\"display:none;\">\n",
              "        \n",
              "  <svg xmlns=\"http://www.w3.org/2000/svg\" height=\"24px\"viewBox=\"0 0 24 24\"\n",
              "       width=\"24px\">\n",
              "    <path d=\"M0 0h24v24H0V0z\" fill=\"none\"/>\n",
              "    <path d=\"M18.56 5.44l.94 2.06.94-2.06 2.06-.94-2.06-.94-.94-2.06-.94 2.06-2.06.94zm-11 1L8.5 8.5l.94-2.06 2.06-.94-2.06-.94L8.5 2.5l-.94 2.06-2.06.94zm10 10l.94 2.06.94-2.06 2.06-.94-2.06-.94-.94-2.06-.94 2.06-2.06.94z\"/><path d=\"M17.41 7.96l-1.37-1.37c-.4-.4-.92-.59-1.43-.59-.52 0-1.04.2-1.43.59L10.3 9.45l-7.72 7.72c-.78.78-.78 2.05 0 2.83L4 21.41c.39.39.9.59 1.41.59.51 0 1.02-.2 1.41-.59l7.78-7.78 2.81-2.81c.8-.78.8-2.07 0-2.86zM5.41 20L4 18.59l7.72-7.72 1.47 1.35L5.41 20z\"/>\n",
              "  </svg>\n",
              "      </button>\n",
              "      \n",
              "  <style>\n",
              "    .colab-df-container {\n",
              "      display:flex;\n",
              "      flex-wrap:wrap;\n",
              "      gap: 12px;\n",
              "    }\n",
              "\n",
              "    .colab-df-convert {\n",
              "      background-color: #E8F0FE;\n",
              "      border: none;\n",
              "      border-radius: 50%;\n",
              "      cursor: pointer;\n",
              "      display: none;\n",
              "      fill: #1967D2;\n",
              "      height: 32px;\n",
              "      padding: 0 0 0 0;\n",
              "      width: 32px;\n",
              "    }\n",
              "\n",
              "    .colab-df-convert:hover {\n",
              "      background-color: #E2EBFA;\n",
              "      box-shadow: 0px 1px 2px rgba(60, 64, 67, 0.3), 0px 1px 3px 1px rgba(60, 64, 67, 0.15);\n",
              "      fill: #174EA6;\n",
              "    }\n",
              "\n",
              "    [theme=dark] .colab-df-convert {\n",
              "      background-color: #3B4455;\n",
              "      fill: #D2E3FC;\n",
              "    }\n",
              "\n",
              "    [theme=dark] .colab-df-convert:hover {\n",
              "      background-color: #434B5C;\n",
              "      box-shadow: 0px 1px 3px 1px rgba(0, 0, 0, 0.15);\n",
              "      filter: drop-shadow(0px 1px 2px rgba(0, 0, 0, 0.3));\n",
              "      fill: #FFFFFF;\n",
              "    }\n",
              "  </style>\n",
              "\n",
              "      <script>\n",
              "        const buttonEl =\n",
              "          document.querySelector('#df-342615e5-15a9-4c6b-b1dd-039a6efe15de button.colab-df-convert');\n",
              "        buttonEl.style.display =\n",
              "          google.colab.kernel.accessAllowed ? 'block' : 'none';\n",
              "\n",
              "        async function convertToInteractive(key) {\n",
              "          const element = document.querySelector('#df-342615e5-15a9-4c6b-b1dd-039a6efe15de');\n",
              "          const dataTable =\n",
              "            await google.colab.kernel.invokeFunction('convertToInteractive',\n",
              "                                                     [key], {});\n",
              "          if (!dataTable) return;\n",
              "\n",
              "          const docLinkHtml = 'Like what you see? Visit the ' +\n",
              "            '<a target=\"_blank\" href=https://colab.research.google.com/notebooks/data_table.ipynb>data table notebook</a>'\n",
              "            + ' to learn more about interactive tables.';\n",
              "          element.innerHTML = '';\n",
              "          dataTable['output_type'] = 'display_data';\n",
              "          await google.colab.output.renderOutput(dataTable, element);\n",
              "          const docLink = document.createElement('div');\n",
              "          docLink.innerHTML = docLinkHtml;\n",
              "          element.appendChild(docLink);\n",
              "        }\n",
              "      </script>\n",
              "    </div>\n",
              "  </div>\n",
              "  "
            ]
          },
          "metadata": {},
          "execution_count": 116
        }
      ],
      "source": [
        "# verificando o dataset\n",
        "df"
      ]
    },
    {
      "cell_type": "markdown",
      "metadata": {
        "id": "itRY8el50C6R"
      },
      "source": [
        "## MODELAGEM"
      ]
    },
    {
      "cell_type": "code",
      "execution_count": 117,
      "metadata": {
        "id": "Tjg1kOoYnqjv"
      },
      "outputs": [],
      "source": [
        "# modelagem\n",
        "from sklearn.linear_model import LinearRegression\n",
        "from sklearn.linear_model import LogisticRegression\n",
        "from sklearn.tree import DecisionTreeClassifier\n",
        "from sklearn.ensemble import RandomForestClassifier\n",
        "from sklearn.ensemble import BaggingClassifier\n",
        "from sklearn.ensemble import VotingClassifier\n",
        "from sklearn.neighbors import (NeighborhoodComponentsAnalysis,\n",
        " KNeighborsClassifier)\n",
        "from sklearn.ensemble import RandomForestClassifier\n",
        "from xgboost import XGBClassifier\n",
        "\n",
        "# métricas de validação\n",
        "from sklearn.model_selection import train_test_split\n",
        "from sklearn.metrics import confusion_matrix\n",
        "from sklearn.metrics import classification_report\n",
        "from sklearn.metrics import accuracy_score\n",
        "\n",
        "# validação cruzada\n",
        "\n",
        "\n",
        "from sklearn.model_selection import StratifiedKFold\n",
        "from sklearn.model_selection import RepeatedKFold\n",
        "from sklearn.model_selection import cross_validate\n",
        "\n"
      ]
    },
    {
      "cell_type": "markdown",
      "metadata": {
        "id": "44O2qAEZh_GJ"
      },
      "source": [
        "##### OBS: DEPOIS DO BALANCEAMENTO DAS VARIÁVEIS FEITA DO PRÉPROCESSAMENTO, A VARÁVEL 'X' FICOU COMO 'DF', E A VARIÁVEL 'Y' FICOU COM DF2."
      ]
    },
    {
      "cell_type": "markdown",
      "metadata": {
        "id": "I-qWs-H98a2i"
      },
      "source": [
        "- Criando uma lista de medidas"
      ]
    },
    {
      "cell_type": "code",
      "execution_count": 118,
      "metadata": {
        "id": "aZxBzMi6GQs6"
      },
      "outputs": [],
      "source": [
        "Xtreino, Xteste, ytreino, yteste  = train_test_split(df, df2, test_size = 0.25)\n",
        "    "
      ]
    },
    {
      "cell_type": "code",
      "execution_count": 119,
      "metadata": {
        "id": "9_2VpuZ96JDp"
      },
      "outputs": [],
      "source": [
        "# criando uma lista de medidas\n",
        "lista_de_medidas = ['accuracy', 'recall', 'precision', 'balanced_accuracy',\n",
        "                    'f1']\n",
        "nome_das_medidas = ['acurácia', 'sensibilidade', 'precisão', 'eficiência',\n",
        "                    'f1-score']"
      ]
    },
    {
      "cell_type": "markdown",
      "metadata": {
        "id": "6ONWcXfL8LSg"
      },
      "source": [
        "- Criando uma lista de modelos"
      ]
    },
    {
      "cell_type": "code",
      "execution_count": 120,
      "metadata": {
        "id": "jU7cNTWD7tBF"
      },
      "outputs": [],
      "source": [
        "# criando uma lista de modelos\n",
        "lista_de_modelos = [LogisticRegression(),\n",
        "                        DecisionTreeClassifier(max_depth = 3),\n",
        "                        DecisionTreeClassifier(max_depth = 5),\n",
        "                        DecisionTreeClassifier(max_depth = 7),\n",
        "                        DecisionTreeClassifier(max_depth = 9),\n",
        "                        DecisionTreeClassifier(max_depth = 11),\n",
        "                        DecisionTreeClassifier(max_depth = 13),\n",
        "                        DecisionTreeClassifier(max_depth = 15),\n",
        "                        KNeighborsClassifier(n_neighbors = 5),\n",
        "                        KNeighborsClassifier(n_neighbors = 15),\n",
        "                        KNeighborsClassifier(n_neighbors = 25),\n",
        "                        KNeighborsClassifier(n_neighbors = 35),\n",
        "                        KNeighborsClassifier(n_neighbors = 45),\n",
        "                        KNeighborsClassifier(n_neighbors = 55),\n",
        "                        BaggingClassifier(),\n",
        "                        RandomForestClassifier(n_estimators=50, max_depth = 5),\n",
        "                        RandomForestClassifier(n_estimators=50, max_depth = 7),\n",
        "                        RandomForestClassifier(n_estimators=50, max_depth = 9),\n",
        "                        RandomForestClassifier(n_estimators=50, max_depth = 11),\n",
        "                        RandomForestClassifier(n_estimators=50, max_depth = 13),\n",
        "                        RandomForestClassifier(n_estimators=50, max_depth = 15),\n",
        "                        RandomForestClassifier(n_estimators=100, max_depth = 5),\n",
        "                        RandomForestClassifier(n_estimators=100, max_depth = 7),\n",
        "                        RandomForestClassifier(n_estimators=100, max_depth = 9),\n",
        "                        RandomForestClassifier(n_estimators=100, max_depth = 11),\n",
        "                        RandomForestClassifier(n_estimators=100, max_depth = 13),\n",
        "                        RandomForestClassifier(n_estimators=100, max_depth = 15), XGBClassifier(learning_rate =0.1, n_estimators=1000, max_depth=6)]\n",
        "\n",
        "nome_dos_modelos = ['Regressão Logística',\n",
        "                        'Árvore (prof = 3)',\n",
        "                        'Árvore (prof = 5)',\n",
        "                        'Árvore (prof = 7)',\n",
        "                        'Árvore (prof = 9)',\n",
        "                        'Árvore (prof = 11)',\n",
        "                        'Árvore (prof = 13)',\n",
        "                        'Árvore (prof = 15)',\n",
        "                        '5-NN',\n",
        "                        '15-NN',\n",
        "                        '25-NN',\n",
        "                        '35-NN',\n",
        "                        '45-NN',\n",
        "                        '55-NN',\n",
        "                        'Bagging',\n",
        "                        'Random Forest (arvs = 50, prof = 5)',\n",
        "                        'Random Forest (arvs = 50, prof = 7)',\n",
        "                        'Random Forest (arvs = 50, prof = 9)',\n",
        "                        'Random Forest (arvs = 50, prof = 11)',\n",
        "                        'Random Forest (arvs = 50, prof = 13)',\n",
        "                        'Random Forest (arvs = 50, prof = 15)',\n",
        "                        'Random Forest (arvs = 100, prof = 5)',\n",
        "                        'Random Forest (arvs = 100, prof = 7)',\n",
        "                        'Random Forest (arvs = 100, prof = 9)',\n",
        "                        'Random Forest (arvs = 100, prof = 11)',\n",
        "                        'Random Forest (arvs = 100, prof = 13)',\n",
        "                        'Random Forest (arvs = 100, prof = 15)',\n",
        "                        'Gradiente boost' ]"
      ]
    },
    {
      "cell_type": "markdown",
      "metadata": {
        "id": "gYbhBa9J_7-C"
      },
      "source": [
        "Vamos executar os mesmos e verificar seus resultados.\n",
        "\n",
        "Nessa primeira parte estamos usando o método de cross-(validation Stratified do KFold)."
      ]
    },
    {
      "cell_type": "code",
      "execution_count": 121,
      "metadata": {
        "colab": {
          "base_uri": "https://localhost:8080/"
        },
        "id": "V5tj9Ust8TDs",
        "outputId": "40c1e4bf-d732-458e-ea06-ca53a68588ce"
      },
      "outputs": [
        {
          "output_type": "stream",
          "name": "stdout",
          "text": [
            "Rodando modelo: Regressão Logística\n",
            "Rodando modelo: Árvore (prof = 3)\n",
            "Rodando modelo: Árvore (prof = 5)\n",
            "Rodando modelo: Árvore (prof = 7)\n",
            "Rodando modelo: Árvore (prof = 9)\n",
            "Rodando modelo: Árvore (prof = 11)\n",
            "Rodando modelo: Árvore (prof = 13)\n",
            "Rodando modelo: Árvore (prof = 15)\n",
            "Rodando modelo: 5-NN\n",
            "Rodando modelo: 15-NN\n",
            "Rodando modelo: 25-NN\n",
            "Rodando modelo: 35-NN\n",
            "Rodando modelo: 45-NN\n",
            "Rodando modelo: 55-NN\n",
            "Rodando modelo: Bagging\n",
            "Rodando modelo: Random Forest (arvs = 50, prof = 5)\n",
            "Rodando modelo: Random Forest (arvs = 50, prof = 7)\n",
            "Rodando modelo: Random Forest (arvs = 50, prof = 9)\n",
            "Rodando modelo: Random Forest (arvs = 50, prof = 11)\n",
            "Rodando modelo: Random Forest (arvs = 50, prof = 13)\n",
            "Rodando modelo: Random Forest (arvs = 50, prof = 15)\n",
            "Rodando modelo: Random Forest (arvs = 100, prof = 5)\n",
            "Rodando modelo: Random Forest (arvs = 100, prof = 7)\n",
            "Rodando modelo: Random Forest (arvs = 100, prof = 9)\n",
            "Rodando modelo: Random Forest (arvs = 100, prof = 11)\n",
            "Rodando modelo: Random Forest (arvs = 100, prof = 13)\n",
            "Rodando modelo: Random Forest (arvs = 100, prof = 15)\n",
            "Rodando modelo: Gradiente boost\n"
          ]
        }
      ],
      "source": [
        "resultados0 = {}\n",
        "\n",
        "validacao_skf = StratifiedKFold(n_splits = 10)\n",
        "\n",
        "\n",
        "for i in range(len(lista_de_modelos)):\n",
        "    print('Rodando modelo: ' + nome_dos_modelos[i])\n",
        "    accs_vc = cross_validate(lista_de_modelos[i], df, df2, cv = validacao_skf,\n",
        "                             scoring = lista_de_medidas)\n",
        "\n",
        "    acc = accs_vc['test_accuracy'].mean()\n",
        "    sen = accs_vc['test_recall'].mean()\n",
        "    vpp = accs_vc['test_precision'].mean()\n",
        "    bac = accs_vc['test_balanced_accuracy'].mean()\n",
        "    f1s = accs_vc['test_f1'].mean()\n",
        "\n",
        "    resultados0[nome_dos_modelos[i]] = [acc, sen, vpp, f1s, bac]\n",
        "    \n",
        "resultados = pd.DataFrame(resultados0, index = nome_das_medidas).T"
      ]
    },
    {
      "cell_type": "code",
      "execution_count": 122,
      "metadata": {
        "colab": {
          "base_uri": "https://localhost:8080/",
          "height": 927
        },
        "id": "hIhQlai0Jxih",
        "outputId": "a75481ea-fd9c-49ee-cb3f-879db39e3b11"
      },
      "outputs": [
        {
          "output_type": "execute_result",
          "data": {
            "text/plain": [
              "                                       acurácia  sensibilidade  precisão  \\\n",
              "Bagging                                0.920044       0.854571  0.983737   \n",
              "Gradiente boost                        0.893285       0.853196  0.927808   \n",
              "Random Forest (arvs = 50, prof = 15)   0.848847       0.775405  0.909030   \n",
              "Random Forest (arvs = 100, prof = 15)  0.848200       0.773908  0.909086   \n",
              "Árvore (prof = 15)                     0.847816       0.793244  0.891018   \n",
              "5-NN                                   0.837540       0.768932  0.891790   \n",
              "Árvore (prof = 13)                     0.837520       0.775364  0.886730   \n",
              "Random Forest (arvs = 100, prof = 13)  0.835882       0.759628  0.896404   \n",
              "Random Forest (arvs = 50, prof = 13)   0.835275       0.759304  0.895476   \n",
              "Árvore (prof = 11)                     0.830845       0.757888  0.887709   \n",
              "15-NN                                  0.823220       0.768770  0.862836   \n",
              "Random Forest (arvs = 50, prof = 11)   0.822856       0.741909  0.885298   \n",
              "Random Forest (arvs = 100, prof = 11)  0.822714       0.741100  0.885728   \n",
              "Regressão Logística                    0.819640       0.794579  0.836579   \n",
              "25-NN                                  0.817496       0.765494  0.854398   \n",
              "Árvore (prof = 9)                      0.817476       0.745065  0.871594   \n",
              "35-NN                                  0.816950       0.764159  0.854408   \n",
              "45-NN                                  0.813896       0.760558  0.851430   \n",
              "55-NN                                  0.813208       0.757969  0.852168   \n",
              "Random Forest (arvs = 50, prof = 9)    0.809466       0.721117  0.875947   \n",
              "Random Forest (arvs = 100, prof = 9)   0.808192       0.719134  0.875039   \n",
              "Árvore (prof = 7)                      0.804025       0.715494  0.869884   \n",
              "Random Forest (arvs = 100, prof = 7)   0.795611       0.700890  0.864746   \n",
              "Árvore (prof = 5)                      0.794316       0.715736  0.849898   \n",
              "Random Forest (arvs = 50, prof = 7)    0.794155       0.699272  0.863138   \n",
              "Random Forest (arvs = 100, prof = 5)   0.784446       0.690534  0.850292   \n",
              "Random Forest (arvs = 50, prof = 5)    0.783960       0.688511  0.851020   \n",
              "Árvore (prof = 3)                      0.779571       0.661610  0.865969   \n",
              "\n",
              "                                       eficiência  f1-score  \n",
              "Bagging                                  0.914503  0.920044  \n",
              "Gradiente boost                          0.888857  0.893285  \n",
              "Random Forest (arvs = 50, prof = 15)     0.836870  0.848847  \n",
              "Random Forest (arvs = 100, prof = 15)    0.836018  0.848200  \n",
              "Árvore (prof = 15)                       0.839060  0.847816  \n",
              "5-NN                                     0.825668  0.837540  \n",
              "Árvore (prof = 13)                       0.826733  0.837520  \n",
              "Random Forest (arvs = 100, prof = 13)    0.822330  0.835882  \n",
              "Random Forest (arvs = 50, prof = 13)     0.821728  0.835275  \n",
              "Árvore (prof = 11)                       0.817526  0.830845  \n",
              "15-NN                                    0.813048  0.823220  \n",
              "Random Forest (arvs = 50, prof = 11)     0.807258  0.822856  \n",
              "Random Forest (arvs = 100, prof = 11)    0.806953  0.822714  \n",
              "Regressão Logística                      0.815002  0.819640  \n",
              "25-NN                                    0.807483  0.817496  \n",
              "Árvore (prof = 9)                        0.803197  0.817476  \n",
              "35-NN                                    0.806741  0.816950  \n",
              "45-NN                                    0.803408  0.813896  \n",
              "55-NN                                    0.802276  0.813208  \n",
              "Random Forest (arvs = 50, prof = 9)      0.790993  0.809466  \n",
              "Random Forest (arvs = 100, prof = 9)     0.789435  0.808192  \n",
              "Árvore (prof = 7)                        0.784957  0.804025  \n",
              "Random Forest (arvs = 100, prof = 7)     0.774209  0.795611  \n",
              "Árvore (prof = 5)                        0.776617  0.794316  \n",
              "Random Forest (arvs = 50, prof = 7)      0.772568  0.794155  \n",
              "Random Forest (arvs = 100, prof = 5)     0.762085  0.784446  \n",
              "Random Forest (arvs = 50, prof = 5)      0.761149  0.783960  \n",
              "Árvore (prof = 3)                        0.750076  0.779571  "
            ],
            "text/html": [
              "\n",
              "  <div id=\"df-bcd20348-e812-4446-9848-6f127e88ca5a\">\n",
              "    <div class=\"colab-df-container\">\n",
              "      <div>\n",
              "<style scoped>\n",
              "    .dataframe tbody tr th:only-of-type {\n",
              "        vertical-align: middle;\n",
              "    }\n",
              "\n",
              "    .dataframe tbody tr th {\n",
              "        vertical-align: top;\n",
              "    }\n",
              "\n",
              "    .dataframe thead th {\n",
              "        text-align: right;\n",
              "    }\n",
              "</style>\n",
              "<table border=\"1\" class=\"dataframe\">\n",
              "  <thead>\n",
              "    <tr style=\"text-align: right;\">\n",
              "      <th></th>\n",
              "      <th>acurácia</th>\n",
              "      <th>sensibilidade</th>\n",
              "      <th>precisão</th>\n",
              "      <th>eficiência</th>\n",
              "      <th>f1-score</th>\n",
              "    </tr>\n",
              "  </thead>\n",
              "  <tbody>\n",
              "    <tr>\n",
              "      <th>Bagging</th>\n",
              "      <td>0.920044</td>\n",
              "      <td>0.854571</td>\n",
              "      <td>0.983737</td>\n",
              "      <td>0.914503</td>\n",
              "      <td>0.920044</td>\n",
              "    </tr>\n",
              "    <tr>\n",
              "      <th>Gradiente boost</th>\n",
              "      <td>0.893285</td>\n",
              "      <td>0.853196</td>\n",
              "      <td>0.927808</td>\n",
              "      <td>0.888857</td>\n",
              "      <td>0.893285</td>\n",
              "    </tr>\n",
              "    <tr>\n",
              "      <th>Random Forest (arvs = 50, prof = 15)</th>\n",
              "      <td>0.848847</td>\n",
              "      <td>0.775405</td>\n",
              "      <td>0.909030</td>\n",
              "      <td>0.836870</td>\n",
              "      <td>0.848847</td>\n",
              "    </tr>\n",
              "    <tr>\n",
              "      <th>Random Forest (arvs = 100, prof = 15)</th>\n",
              "      <td>0.848200</td>\n",
              "      <td>0.773908</td>\n",
              "      <td>0.909086</td>\n",
              "      <td>0.836018</td>\n",
              "      <td>0.848200</td>\n",
              "    </tr>\n",
              "    <tr>\n",
              "      <th>Árvore (prof = 15)</th>\n",
              "      <td>0.847816</td>\n",
              "      <td>0.793244</td>\n",
              "      <td>0.891018</td>\n",
              "      <td>0.839060</td>\n",
              "      <td>0.847816</td>\n",
              "    </tr>\n",
              "    <tr>\n",
              "      <th>5-NN</th>\n",
              "      <td>0.837540</td>\n",
              "      <td>0.768932</td>\n",
              "      <td>0.891790</td>\n",
              "      <td>0.825668</td>\n",
              "      <td>0.837540</td>\n",
              "    </tr>\n",
              "    <tr>\n",
              "      <th>Árvore (prof = 13)</th>\n",
              "      <td>0.837520</td>\n",
              "      <td>0.775364</td>\n",
              "      <td>0.886730</td>\n",
              "      <td>0.826733</td>\n",
              "      <td>0.837520</td>\n",
              "    </tr>\n",
              "    <tr>\n",
              "      <th>Random Forest (arvs = 100, prof = 13)</th>\n",
              "      <td>0.835882</td>\n",
              "      <td>0.759628</td>\n",
              "      <td>0.896404</td>\n",
              "      <td>0.822330</td>\n",
              "      <td>0.835882</td>\n",
              "    </tr>\n",
              "    <tr>\n",
              "      <th>Random Forest (arvs = 50, prof = 13)</th>\n",
              "      <td>0.835275</td>\n",
              "      <td>0.759304</td>\n",
              "      <td>0.895476</td>\n",
              "      <td>0.821728</td>\n",
              "      <td>0.835275</td>\n",
              "    </tr>\n",
              "    <tr>\n",
              "      <th>Árvore (prof = 11)</th>\n",
              "      <td>0.830845</td>\n",
              "      <td>0.757888</td>\n",
              "      <td>0.887709</td>\n",
              "      <td>0.817526</td>\n",
              "      <td>0.830845</td>\n",
              "    </tr>\n",
              "    <tr>\n",
              "      <th>15-NN</th>\n",
              "      <td>0.823220</td>\n",
              "      <td>0.768770</td>\n",
              "      <td>0.862836</td>\n",
              "      <td>0.813048</td>\n",
              "      <td>0.823220</td>\n",
              "    </tr>\n",
              "    <tr>\n",
              "      <th>Random Forest (arvs = 50, prof = 11)</th>\n",
              "      <td>0.822856</td>\n",
              "      <td>0.741909</td>\n",
              "      <td>0.885298</td>\n",
              "      <td>0.807258</td>\n",
              "      <td>0.822856</td>\n",
              "    </tr>\n",
              "    <tr>\n",
              "      <th>Random Forest (arvs = 100, prof = 11)</th>\n",
              "      <td>0.822714</td>\n",
              "      <td>0.741100</td>\n",
              "      <td>0.885728</td>\n",
              "      <td>0.806953</td>\n",
              "      <td>0.822714</td>\n",
              "    </tr>\n",
              "    <tr>\n",
              "      <th>Regressão Logística</th>\n",
              "      <td>0.819640</td>\n",
              "      <td>0.794579</td>\n",
              "      <td>0.836579</td>\n",
              "      <td>0.815002</td>\n",
              "      <td>0.819640</td>\n",
              "    </tr>\n",
              "    <tr>\n",
              "      <th>25-NN</th>\n",
              "      <td>0.817496</td>\n",
              "      <td>0.765494</td>\n",
              "      <td>0.854398</td>\n",
              "      <td>0.807483</td>\n",
              "      <td>0.817496</td>\n",
              "    </tr>\n",
              "    <tr>\n",
              "      <th>Árvore (prof = 9)</th>\n",
              "      <td>0.817476</td>\n",
              "      <td>0.745065</td>\n",
              "      <td>0.871594</td>\n",
              "      <td>0.803197</td>\n",
              "      <td>0.817476</td>\n",
              "    </tr>\n",
              "    <tr>\n",
              "      <th>35-NN</th>\n",
              "      <td>0.816950</td>\n",
              "      <td>0.764159</td>\n",
              "      <td>0.854408</td>\n",
              "      <td>0.806741</td>\n",
              "      <td>0.816950</td>\n",
              "    </tr>\n",
              "    <tr>\n",
              "      <th>45-NN</th>\n",
              "      <td>0.813896</td>\n",
              "      <td>0.760558</td>\n",
              "      <td>0.851430</td>\n",
              "      <td>0.803408</td>\n",
              "      <td>0.813896</td>\n",
              "    </tr>\n",
              "    <tr>\n",
              "      <th>55-NN</th>\n",
              "      <td>0.813208</td>\n",
              "      <td>0.757969</td>\n",
              "      <td>0.852168</td>\n",
              "      <td>0.802276</td>\n",
              "      <td>0.813208</td>\n",
              "    </tr>\n",
              "    <tr>\n",
              "      <th>Random Forest (arvs = 50, prof = 9)</th>\n",
              "      <td>0.809466</td>\n",
              "      <td>0.721117</td>\n",
              "      <td>0.875947</td>\n",
              "      <td>0.790993</td>\n",
              "      <td>0.809466</td>\n",
              "    </tr>\n",
              "    <tr>\n",
              "      <th>Random Forest (arvs = 100, prof = 9)</th>\n",
              "      <td>0.808192</td>\n",
              "      <td>0.719134</td>\n",
              "      <td>0.875039</td>\n",
              "      <td>0.789435</td>\n",
              "      <td>0.808192</td>\n",
              "    </tr>\n",
              "    <tr>\n",
              "      <th>Árvore (prof = 7)</th>\n",
              "      <td>0.804025</td>\n",
              "      <td>0.715494</td>\n",
              "      <td>0.869884</td>\n",
              "      <td>0.784957</td>\n",
              "      <td>0.804025</td>\n",
              "    </tr>\n",
              "    <tr>\n",
              "      <th>Random Forest (arvs = 100, prof = 7)</th>\n",
              "      <td>0.795611</td>\n",
              "      <td>0.700890</td>\n",
              "      <td>0.864746</td>\n",
              "      <td>0.774209</td>\n",
              "      <td>0.795611</td>\n",
              "    </tr>\n",
              "    <tr>\n",
              "      <th>Árvore (prof = 5)</th>\n",
              "      <td>0.794316</td>\n",
              "      <td>0.715736</td>\n",
              "      <td>0.849898</td>\n",
              "      <td>0.776617</td>\n",
              "      <td>0.794316</td>\n",
              "    </tr>\n",
              "    <tr>\n",
              "      <th>Random Forest (arvs = 50, prof = 7)</th>\n",
              "      <td>0.794155</td>\n",
              "      <td>0.699272</td>\n",
              "      <td>0.863138</td>\n",
              "      <td>0.772568</td>\n",
              "      <td>0.794155</td>\n",
              "    </tr>\n",
              "    <tr>\n",
              "      <th>Random Forest (arvs = 100, prof = 5)</th>\n",
              "      <td>0.784446</td>\n",
              "      <td>0.690534</td>\n",
              "      <td>0.850292</td>\n",
              "      <td>0.762085</td>\n",
              "      <td>0.784446</td>\n",
              "    </tr>\n",
              "    <tr>\n",
              "      <th>Random Forest (arvs = 50, prof = 5)</th>\n",
              "      <td>0.783960</td>\n",
              "      <td>0.688511</td>\n",
              "      <td>0.851020</td>\n",
              "      <td>0.761149</td>\n",
              "      <td>0.783960</td>\n",
              "    </tr>\n",
              "    <tr>\n",
              "      <th>Árvore (prof = 3)</th>\n",
              "      <td>0.779571</td>\n",
              "      <td>0.661610</td>\n",
              "      <td>0.865969</td>\n",
              "      <td>0.750076</td>\n",
              "      <td>0.779571</td>\n",
              "    </tr>\n",
              "  </tbody>\n",
              "</table>\n",
              "</div>\n",
              "      <button class=\"colab-df-convert\" onclick=\"convertToInteractive('df-bcd20348-e812-4446-9848-6f127e88ca5a')\"\n",
              "              title=\"Convert this dataframe to an interactive table.\"\n",
              "              style=\"display:none;\">\n",
              "        \n",
              "  <svg xmlns=\"http://www.w3.org/2000/svg\" height=\"24px\"viewBox=\"0 0 24 24\"\n",
              "       width=\"24px\">\n",
              "    <path d=\"M0 0h24v24H0V0z\" fill=\"none\"/>\n",
              "    <path d=\"M18.56 5.44l.94 2.06.94-2.06 2.06-.94-2.06-.94-.94-2.06-.94 2.06-2.06.94zm-11 1L8.5 8.5l.94-2.06 2.06-.94-2.06-.94L8.5 2.5l-.94 2.06-2.06.94zm10 10l.94 2.06.94-2.06 2.06-.94-2.06-.94-.94-2.06-.94 2.06-2.06.94z\"/><path d=\"M17.41 7.96l-1.37-1.37c-.4-.4-.92-.59-1.43-.59-.52 0-1.04.2-1.43.59L10.3 9.45l-7.72 7.72c-.78.78-.78 2.05 0 2.83L4 21.41c.39.39.9.59 1.41.59.51 0 1.02-.2 1.41-.59l7.78-7.78 2.81-2.81c.8-.78.8-2.07 0-2.86zM5.41 20L4 18.59l7.72-7.72 1.47 1.35L5.41 20z\"/>\n",
              "  </svg>\n",
              "      </button>\n",
              "      \n",
              "  <style>\n",
              "    .colab-df-container {\n",
              "      display:flex;\n",
              "      flex-wrap:wrap;\n",
              "      gap: 12px;\n",
              "    }\n",
              "\n",
              "    .colab-df-convert {\n",
              "      background-color: #E8F0FE;\n",
              "      border: none;\n",
              "      border-radius: 50%;\n",
              "      cursor: pointer;\n",
              "      display: none;\n",
              "      fill: #1967D2;\n",
              "      height: 32px;\n",
              "      padding: 0 0 0 0;\n",
              "      width: 32px;\n",
              "    }\n",
              "\n",
              "    .colab-df-convert:hover {\n",
              "      background-color: #E2EBFA;\n",
              "      box-shadow: 0px 1px 2px rgba(60, 64, 67, 0.3), 0px 1px 3px 1px rgba(60, 64, 67, 0.15);\n",
              "      fill: #174EA6;\n",
              "    }\n",
              "\n",
              "    [theme=dark] .colab-df-convert {\n",
              "      background-color: #3B4455;\n",
              "      fill: #D2E3FC;\n",
              "    }\n",
              "\n",
              "    [theme=dark] .colab-df-convert:hover {\n",
              "      background-color: #434B5C;\n",
              "      box-shadow: 0px 1px 3px 1px rgba(0, 0, 0, 0.15);\n",
              "      filter: drop-shadow(0px 1px 2px rgba(0, 0, 0, 0.3));\n",
              "      fill: #FFFFFF;\n",
              "    }\n",
              "  </style>\n",
              "\n",
              "      <script>\n",
              "        const buttonEl =\n",
              "          document.querySelector('#df-bcd20348-e812-4446-9848-6f127e88ca5a button.colab-df-convert');\n",
              "        buttonEl.style.display =\n",
              "          google.colab.kernel.accessAllowed ? 'block' : 'none';\n",
              "\n",
              "        async function convertToInteractive(key) {\n",
              "          const element = document.querySelector('#df-bcd20348-e812-4446-9848-6f127e88ca5a');\n",
              "          const dataTable =\n",
              "            await google.colab.kernel.invokeFunction('convertToInteractive',\n",
              "                                                     [key], {});\n",
              "          if (!dataTable) return;\n",
              "\n",
              "          const docLinkHtml = 'Like what you see? Visit the ' +\n",
              "            '<a target=\"_blank\" href=https://colab.research.google.com/notebooks/data_table.ipynb>data table notebook</a>'\n",
              "            + ' to learn more about interactive tables.';\n",
              "          element.innerHTML = '';\n",
              "          dataTable['output_type'] = 'display_data';\n",
              "          await google.colab.output.renderOutput(dataTable, element);\n",
              "          const docLink = document.createElement('div');\n",
              "          docLink.innerHTML = docLinkHtml;\n",
              "          element.appendChild(docLink);\n",
              "        }\n",
              "      </script>\n",
              "    </div>\n",
              "  </div>\n",
              "  "
            ]
          },
          "metadata": {},
          "execution_count": 122
        }
      ],
      "source": [
        "# Buscando os resultados dos modelos\n",
        "resultados.sort_values(by = 'f1-score', ascending = False)"
      ]
    },
    {
      "cell_type": "markdown",
      "metadata": {
        "id": "Ggd-BPGINXMn"
      },
      "source": [
        "- Irei rodar alguns modelos com ( kfoldrepetido ) para comparar alguns modelos que não ficaram no topo da lista"
      ]
    },
    {
      "cell_type": "code",
      "execution_count": 123,
      "metadata": {
        "id": "842rd3fsNmw9"
      },
      "outputs": [],
      "source": [
        "# Aplicando a validação cruzada kfold-repetido\n",
        "validacao_rkf = RepeatedKFold(n_splits = 10, n_repeats = 100)"
      ]
    },
    {
      "cell_type": "markdown",
      "metadata": {
        "id": "IH7yqU_ecjCk"
      },
      "source": [
        "REGRESSÃO LOGISTICA"
      ]
    },
    {
      "cell_type": "code",
      "execution_count": 124,
      "metadata": {
        "id": "K7bDIa9zNWWj",
        "colab": {
          "base_uri": "https://localhost:8080/"
        },
        "outputId": "010cbe77-eb59-44f1-b028-998c5ad11e92"
      },
      "outputs": [
        {
          "output_type": "stream",
          "name": "stdout",
          "text": [
            "0.8150281901396019\n"
          ]
        }
      ],
      "source": [
        "# APLICANDO A REGRESSÃO LOGISTICA\n",
        "modelo_LR = LogisticRegression() \n",
        "medidas_LR = cross_validate(modelo_LR, df, df2, cv = validacao_rkf, scoring = 'f1')\n",
        "print(medidas_LR['test_score'].mean())"
      ]
    },
    {
      "cell_type": "markdown",
      "metadata": {
        "id": "uyBkARtGctpO"
      },
      "source": [
        "RANDOM FOREST"
      ]
    },
    {
      "cell_type": "code",
      "execution_count": 125,
      "metadata": {
        "colab": {
          "base_uri": "https://localhost:8080/"
        },
        "id": "oEJM-GzjO_gN",
        "outputId": "06f4ebf1-8846-454e-ec75-7fc3338afbdf"
      },
      "outputs": [
        {
          "output_type": "execute_result",
          "data": {
            "text/plain": [
              "0.821155228636064"
            ]
          },
          "metadata": {},
          "execution_count": 125
        }
      ],
      "source": [
        "modelo_RF50_13 = RandomForestClassifier(n_estimators=50, max_depth = 13)\n",
        "medidas_RF50_13 = cross_validate(modelo_RF50_13, df, df2, cv = validacao_rkf,\n",
        "                                 scoring = 'f1')\n",
        "medidas_RF50_13['test_score'].mean()"
      ]
    },
    {
      "cell_type": "markdown",
      "metadata": {
        "id": "CdcAjVHHc3wn"
      },
      "source": [
        "BAGGING"
      ]
    },
    {
      "cell_type": "code",
      "execution_count": 126,
      "metadata": {
        "id": "MCYtZGe_Qbgd",
        "colab": {
          "base_uri": "https://localhost:8080/"
        },
        "outputId": "db39b937-ef86-43e0-9c4c-a5bfcebd29be"
      },
      "outputs": [
        {
          "output_type": "execute_result",
          "data": {
            "text/plain": [
              "0.9137524638863865"
            ]
          },
          "metadata": {},
          "execution_count": 126
        }
      ],
      "source": [
        " Bagging= BaggingClassifier()\n",
        " medidas_Bagging= cross_validate( Bagging, df, df2, cv = validacao_rkf,\n",
        "                                    scoring = 'f1')\n",
        " medidas_Bagging['test_score'].mean()"
      ]
    },
    {
      "cell_type": "markdown",
      "metadata": {
        "id": "J0of93rudCkY"
      },
      "source": [
        "ÁRVORE DE DECISÃO"
      ]
    },
    {
      "cell_type": "code",
      "execution_count": 127,
      "metadata": {
        "id": "zKO9EHpQPNJq",
        "colab": {
          "base_uri": "https://localhost:8080/"
        },
        "outputId": "dc450756-5472-4aa9-9227-0715a1a02908"
      },
      "outputs": [
        {
          "output_type": "execute_result",
          "data": {
            "text/plain": [
              "0.8288032488613506"
            ]
          },
          "metadata": {},
          "execution_count": 127
        }
      ],
      "source": [
        " modelo_ARV_13= DecisionTreeClassifier(max_depth = 13)\n",
        " medidas_ARV_13 = cross_validate(modelo_ARV_13 , df, df2, cv = validacao_rkf,\n",
        "                                 scoring = 'f1')\n",
        " medidas_ARV_13['test_score'].mean()\n",
        "\n"
      ]
    },
    {
      "cell_type": "code",
      "execution_count": 128,
      "metadata": {
        "id": "6KI79d-nRWnV",
        "colab": {
          "base_uri": "https://localhost:8080/"
        },
        "outputId": "94ad7f6c-bfa5-494a-81ad-19f0ab9926ce"
      },
      "outputs": [
        {
          "output_type": "stream",
          "name": "stdout",
          "text": [
            "0.8015290369407728\n"
          ]
        }
      ],
      "source": [
        "  KNN_55 = KNeighborsClassifier(n_neighbors = 55)\n",
        "  medidas_55_KNN = cross_validate( KNN_55, df, df2, cv = validacao_rkf,\n",
        "                                 scoring = 'f1')\n",
        "  print(medidas_55_KNN['test_score'].mean())"
      ]
    },
    {
      "cell_type": "markdown",
      "metadata": {
        "id": "DT8P-8zvedI-"
      },
      "source": [
        "OBS: Nenhum dos modelos acima  no kfoldrepetido superou os dos kfoldstratificados, sendo assim, combinarei alguns modelos do kfoldstratificados para verificação se haverá melhora no desempenho."
      ]
    },
    {
      "cell_type": "markdown",
      "metadata": {
        "id": "YIJISdVj7WdL"
      },
      "source": [
        "## O melhor modelo definido"
      ]
    },
    {
      "cell_type": "code",
      "execution_count": 129,
      "metadata": {
        "colab": {
          "base_uri": "https://localhost:8080/"
        },
        "id": "t25jSZwF7sAY",
        "outputId": "4d005f20-506e-4547-e78e-c90061588879"
      },
      "outputs": [
        {
          "output_type": "execute_result",
          "data": {
            "text/plain": [
              "BaggingClassifier()"
            ]
          },
          "metadata": {},
          "execution_count": 129
        }
      ],
      "source": [
        "#Treinando modelo escolhido\n",
        "Bagging = BaggingClassifier( )\n",
        "Bagging.fit(Xtreino,ytreino) # meu X,y foi substituido por df e df2\n"
      ]
    },
    {
      "cell_type": "code",
      "execution_count": 130,
      "metadata": {
        "id": "M-obiWl2OU3z",
        "colab": {
          "base_uri": "https://localhost:8080/"
        },
        "outputId": "32016707-5bd0-4898-a0da-63384f6bdd5e"
      },
      "outputs": [
        {
          "output_type": "execute_result",
          "data": {
            "text/plain": [
              "array([1, 0, 0, ..., 0, 0, 0], dtype=uint8)"
            ]
          },
          "metadata": {},
          "execution_count": 130
        }
      ],
      "source": [
        "# avaliando modelo nos dados testes\n",
        "\n",
        "preditos = Bagging.predict(Xteste)\n",
        "preditos\n"
      ]
    },
    {
      "cell_type": "markdown",
      "metadata": {
        "id": "ngp4IgJhTfQA"
      },
      "source": [
        "- A quantidade de créditos aprovado e não aprovado (verdadeiros positivos e negativos( tem uma acertividade alta, como o objetivo é medir a quantidade de crédito não aprovados, tivemos precisão de 85%  e 90% de acurácia. Vale ressaltar que todas métricas passa confiabilidade nos resultados."
      ]
    },
    {
      "cell_type": "code",
      "execution_count": 131,
      "metadata": {
        "id": "J6WvnrbbP9v7",
        "colab": {
          "base_uri": "https://localhost:8080/"
        },
        "outputId": "4ba8feab-79bd-4679-bfc9-3d72157a367e"
      },
      "outputs": [
        {
          "output_type": "stream",
          "name": "stdout",
          "text": [
            "Preditos_da_máquina     0     1    All\n",
            "Real                                  \n",
            "0                    6047   166   6213\n",
            "1                     982  5165   6147\n",
            "All                  7029  5331  12360\n"
          ]
        }
      ],
      "source": [
        "# Observando o total das previsões\n",
        "print(pd.crosstab(yteste['não aprovado'],preditos, rownames=['Real'], colnames=['Preditos_da_máquina'], margins=True))"
      ]
    },
    {
      "cell_type": "code",
      "execution_count": 132,
      "metadata": {
        "id": "oL4QUmB8LSoP",
        "colab": {
          "base_uri": "https://localhost:8080/"
        },
        "outputId": "4ac4d7a1-88b3-4a19-8caf-ae98ea5078e6"
      },
      "outputs": [
        {
          "output_type": "stream",
          "name": "stdout",
          "text": [
            "              precision    recall  f1-score   support\n",
            "\n",
            "           0       0.86      0.97      0.91      6213\n",
            "           1       0.97      0.84      0.90      6147\n",
            "\n",
            "    accuracy                           0.91     12360\n",
            "   macro avg       0.91      0.91      0.91     12360\n",
            "weighted avg       0.91      0.91      0.91     12360\n",
            "\n"
          ]
        }
      ],
      "source": [
        "from sklearn.metrics import classification_report,confusion_matrix\n",
        "print(classification_report(yteste, preditos))"
      ]
    },
    {
      "cell_type": "markdown",
      "metadata": {
        "id": "3zZCVZR6FkAW"
      },
      "source": [
        "Probabilidades dos créditos não aprovados para dados de treino"
      ]
    },
    {
      "cell_type": "code",
      "source": [
        "# Cálculos das probabiçidades dos créditos não aprovados\n",
        "df['proba'] = Bagging.predict_proba(df[Xtreino.columns])[:,0]\n",
        "df['proba']"
      ],
      "metadata": {
        "id": "5F2N3NxLbRda",
        "colab": {
          "base_uri": "https://localhost:8080/"
        },
        "outputId": "c2e5213b-f014-40f7-d25a-c1bf6a0adee3"
      },
      "execution_count": 133,
      "outputs": [
        {
          "output_type": "execute_result",
          "data": {
            "text/plain": [
              "0        0.0\n",
              "1        0.4\n",
              "2        0.0\n",
              "3        0.1\n",
              "4        0.2\n",
              "        ... \n",
              "49435    1.0\n",
              "49436    1.0\n",
              "49437    1.0\n",
              "49438    1.0\n",
              "49439    1.0\n",
              "Name: proba, Length: 49440, dtype: float64"
            ]
          },
          "metadata": {},
          "execution_count": 133
        }
      ]
    },
    {
      "cell_type": "markdown",
      "metadata": {
        "id": "57F8XfEff5YR"
      },
      "source": [
        "## COMBINAÇÃO DE MODELOS"
      ]
    },
    {
      "cell_type": "markdown",
      "source": [
        "- Aqui combinaremos o segundo(GB) e o terceiro(RF100_15) melhores modelos para analisar os resultados, e observar se supera alguns indicadores. A metodologia será a 'soft'"
      ],
      "metadata": {
        "id": "4hFNX8etwjJB"
      }
    },
    {
      "cell_type": "code",
      "execution_count": 134,
      "metadata": {
        "id": "1BNDFjVi7l6B"
      },
      "outputs": [],
      "source": [
        "from sklearn.ensemble import VotingClassifier # importando biblioteca para classificalção"
      ]
    },
    {
      "cell_type": "code",
      "source": [
        "# treinando a combinaçõo dos modelos\n",
        "RF_100_15=RandomForestClassifier(n_estimators=100, max_depth = 15)\n",
        "XB= XGBClassifier(learning_rate =0.1, n_estimators=1000, max_depth=6)\n",
        "voto = VotingClassifier(estimators=[('RF',RF_100_15 ),('xgb',XB)], voting='soft')\n",
        "voto = voto.fit(Xtreino,ytreino)\n"
      ],
      "metadata": {
        "id": "AsHTEDoUxB_R"
      },
      "execution_count": 135,
      "outputs": []
    },
    {
      "cell_type": "code",
      "source": [
        "preditos = voto.predict(Xteste)\n",
        "print(pd.crosstab(yteste['não aprovado'],preditos, rownames=['Real'], colnames=['Preditos_da_máquina'], margins=True)) \n",
        "\n"
      ],
      "metadata": {
        "id": "TIHVyVd81thY",
        "colab": {
          "base_uri": "https://localhost:8080/"
        },
        "outputId": "dc9aad04-f007-4233-8138-999ef847643d"
      },
      "execution_count": 136,
      "outputs": [
        {
          "output_type": "stream",
          "name": "stdout",
          "text": [
            "Preditos_da_máquina     0     1    All\n",
            "Real                                  \n",
            "0                    5788   425   6213\n",
            "1                    1094  5053   6147\n",
            "All                  6882  5478  12360\n"
          ]
        }
      ]
    },
    {
      "cell_type": "code",
      "source": [
        "print(classification_report(yteste, preditos))"
      ],
      "metadata": {
        "id": "C2hjl_hV4Q2v",
        "colab": {
          "base_uri": "https://localhost:8080/"
        },
        "outputId": "7b707d7a-b621-40c4-c284-f9e0da1794bc"
      },
      "execution_count": 137,
      "outputs": [
        {
          "output_type": "stream",
          "name": "stdout",
          "text": [
            "              precision    recall  f1-score   support\n",
            "\n",
            "           0       0.84      0.93      0.88      6213\n",
            "           1       0.92      0.82      0.87      6147\n",
            "\n",
            "    accuracy                           0.88     12360\n",
            "   macro avg       0.88      0.88      0.88     12360\n",
            "weighted avg       0.88      0.88      0.88     12360\n",
            "\n"
          ]
        }
      ]
    },
    {
      "cell_type": "markdown",
      "source": [
        "OBS: todos indicadores que mede a classe 0 =( não créditos) foram inferiores ao melhor modelo, porém, esta combinação é considerado um bom modelo para o objettivo proposto. logo ficaremos com o modelo Bagging.\n",
        "\n",
        "\n",
        "\n"
      ],
      "metadata": {
        "id": "SwcTl4eH7fo9"
      }
    },
    {
      "cell_type": "markdown",
      "source": [
        "#* SALVANDO O MELHOR MODELO*"
      ],
      "metadata": {
        "id": "h5JBs8i3o-1y"
      }
    },
    {
      "cell_type": "code",
      "source": [
        "# importando biblioteca joblib para salvar o modelo\n",
        "import joblib\n",
        "model_name = \"modelo_prev_cred.pkl\"\n",
        "joblib.dump(value=Bagging, filename=model_name)"
      ],
      "metadata": {
        "colab": {
          "base_uri": "https://localhost:8080/"
        },
        "id": "Jf6_khhLKjCW",
        "outputId": "171d647b-fd3d-4dd8-cb88-30336fb91023"
      },
      "execution_count": 138,
      "outputs": [
        {
          "output_type": "execute_result",
          "data": {
            "text/plain": [
              "['modelo_prev_cred.pkl']"
            ]
          },
          "metadata": {},
          "execution_count": 138
        }
      ]
    },
    {
      "cell_type": "markdown",
      "source": [
        "## CONSIDERAÇÕES FINAIS\n",
        "\n",
        "-  Quanto à análise exploratória alguns dados se mostram relevantes:\n",
        "\n",
        " 1 Existem  uma discrepância normal entre os créditos não aprovados e aprovados, sua relação com a renda pressupõe uma margem de crescimento entre os não aprovados.\n",
        "\n",
        " 2 Os créditos aprovados têm uma relação direta com os endividamentos e quanto maiores os créditos aprovados, maiores são os investmentos.\n",
        " \n",
        " 3 A faixa etária dos clientes estão em média de 44 anos, e não interfere para aprovação do crédito, quanto ao gênero, o masculino é a maioria dos clientes (chegando a ser o dobro) com 20% dos créditos aprovados, enquanto o feminino apenas 3%. Isso pressupõe margem de crescimento nos gêneros em especial o feminino.\n",
        "\n",
        " 4.Quanto à escolarização, 32% dos clientes não possui nenhuma graduação, 22% em algum colégio e 16% bacharelado, e mais de 25% dos creditos não aprovados refere-se a quem não tem graduação.\n",
        " \n",
        " 5.Quanto ao estado civil, 45% são casados, 32% nunca casou, 13% divorciados e 0,03% viúvos, é interessante saber esse perfil pois quanto maior a composição da familia, existe uma tendência a maiores créditos tanto no valor quanto à necessidades.\n",
        "\n",
        " 6.\n",
        "   Quanto ao tipo de emprego, 69% é do setor privado, isso significa que a maioria do clientes pode variar a renda e a estabilidade no emprego, o qual pode aumentar as taxas de juros do crédito devido aos riscos envolvidos\n",
        "- Quanto  ao modelo escolhido dado o objetivo de prever os créditos não aprovados, foi escolhido o bagging por uma acuracidade de 91%, precisão de acerto de 87%, levando em consideração que todas métricas levaram ao resultado para o melhor modelo.\n",
        "- Apesar do objetvo 'prever os créditos não aprovados', o modelo prever também os aprovados.\n",
        "- É importante frisar que os outros modelos testados como: Gradienteboost e a combinado por voto são modelos considerdos de ótimos resultados para os objetivos proposto.\n",
        "- A acurácia e a precisão do modelo, pode tender a aumentos das métricas de negócios.\n",
        " "
      ],
      "metadata": {
        "id": "c2FpJ3Nltr2N"
      }
    }
  ],
  "metadata": {
    "colab": {
      "collapsed_sections": [
        "FcPCp-mKcTtb",
        "YHjAYU0h6yrQ",
        "2xXZkrdpc0K7"
      ],
      "name": "PREVENÇÃO_DE_CRÉDITO 2.ipynb",
      "provenance": [],
      "mount_file_id": "1ApfCFAIGtqFSnfiZCCFsf3D77qDeWCAv",
      "authorship_tag": "ABX9TyMzJT3th9itKlt0qNFIEN4G",
      "include_colab_link": true
    },
    "kernelspec": {
      "display_name": "Python 3",
      "name": "python3"
    },
    "language_info": {
      "name": "python"
    }
  },
  "nbformat": 4,
  "nbformat_minor": 0
}
